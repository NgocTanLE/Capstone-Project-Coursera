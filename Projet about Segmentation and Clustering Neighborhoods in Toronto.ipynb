{
 "cells": [
  {
   "cell_type": "markdown",
   "metadata": {},
   "source": [
    "**Building a dataframe**\n",
    "\n",
    "Source: https://www.coursera.org/learn/applied-data-science-capstone/peer/I1bDq/segmenting-and-clustering-neighborhoods-in-toronto/submit\n",
    "\n",
    "For this assignment, you will be required to explore and cluster the neighborhoods in Toronto.\n",
    "\n",
    "1. Start by creating a new Notebook for this assignment.\n",
    "2. Use the Notebook to build the code to scrape the following Wikipedia page, https://en.wikipedia.org/wiki/List_of_postal_codes_of_Canada:_M, in order to obtain the data that is in the table of postal codes and to transform the data into a pandas dataframe.\n",
    "\n",
    "3. To create the dataframe:\n",
    "\n",
    "The dataframe will consist of three columns: PostalCode, Borough, and Neighborhood\n",
    "\n",
    "4. Submit a link to your Notebook on your Github repository. (10 marks)\n",
    "\n",
    "**Note**: There are different website scraping libraries and packages in Python. For scraping the above table, you can simply use pandas to read the table into a pandas dataframe.\n",
    "\n",
    "Another way, which would help to learn for more complicated cases of web scraping is using the BeautifulSoup package. Here is the package's main documentation page: http://beautiful-soup-4.readthedocs.io/en/latest/\n",
    "\n",
    "The package is so popular that there is a plethora of tutorials and examples on how to use it. Here is a very good Youtube video on how to use the BeautifulSoup package: https://www.youtube.com/watch?v=ng2o98k983k\n",
    "\n",
    "Use pandas, or the BeautifulSoup package, or any other way you are comfortable with to transform the data in the table on the Wikipedia page into the above pandas dataframe.\n",
    "\n",
    "\n"
   ]
  },
  {
   "cell_type": "code",
   "execution_count": 2,
   "metadata": {
    "ExecuteTime": {
     "end_time": "2020-03-05T11:58:27.338897Z",
     "start_time": "2020-03-05T11:58:27.335883Z"
    }
   },
   "outputs": [],
   "source": [
    "import os\n",
    "import pandas as pd\n",
    "import numpy as np\n",
    "\n",
    "import warnings\n",
    "warnings.filterwarnings(\"ignore\")"
   ]
  },
  {
   "cell_type": "markdown",
   "metadata": {},
   "source": [
    "# Load the dataset"
   ]
  },
  {
   "cell_type": "code",
   "execution_count": 3,
   "metadata": {
    "ExecuteTime": {
     "end_time": "2020-03-05T12:00:08.764433Z",
     "start_time": "2020-03-05T12:00:08.745026Z"
    }
   },
   "outputs": [
    {
     "name": "stdout",
     "output_type": "stream",
     "text": [
      "Loading from saved csv './data/Toronto_FSA.csv' that was downloaded from Wikipedia page\n"
     ]
    }
   ],
   "source": [
    "file_input_path = \"./data/Toronto_FSA.csv\"\n",
    "df = None\n",
    "\n",
    "if os.path.exists(file_input_path):    \n",
    "    print(\"Loading from saved csv '%s' that was downloaded from Wikipedia page\" % file_input_path)\n",
    "    df = pd.read_csv(file_input_path, header=0)\n",
    "else:\n",
    "    print(\"Loading table Toronto FSA from Wikipedia page\")\n",
    "    \n",
    "    url_page = \"https://en.wikipedia.org/wiki/List_of_postal_codes_of_Canada:_M\"\n",
    "    tables = pd.read_html(url_page)\n",
    "    \n",
    "    print(\"The number of tables in given Wikipedia page : %s\" % len(tables))    \n",
    "    df = tables[0]\n",
    "    \n",
    "    print(\"Save to file csv: %s\" % file_input_path)\n",
    "    df.to_csv(file_input_path, header=True, index=False)"
   ]
  },
  {
   "cell_type": "markdown",
   "metadata": {},
   "source": [
    "# Process the dataframe"
   ]
  },
  {
   "cell_type": "code",
   "execution_count": 9,
   "metadata": {
    "ExecuteTime": {
     "end_time": "2020-03-05T12:03:05.568026Z",
     "start_time": "2020-03-05T12:03:05.552378Z"
    }
   },
   "outputs": [
    {
     "name": "stdout",
     "output_type": "stream",
     "text": [
      "(row, column) = (287, 3)\n"
     ]
    }
   ],
   "source": [
    "# use the .shape method to print the number of rows of the dataframe\n",
    "print(\"(row, column) = %s\" % str(df.shape))"
   ]
  },
  {
   "cell_type": "code",
   "execution_count": 5,
   "metadata": {
    "ExecuteTime": {
     "end_time": "2020-03-05T12:00:56.601651Z",
     "start_time": "2020-03-05T12:00:56.591679Z"
    }
   },
   "outputs": [
    {
     "name": "stdout",
     "output_type": "stream",
     "text": [
      "<class 'pandas.core.frame.DataFrame'>\n",
      "RangeIndex: 287 entries, 0 to 286\n",
      "Data columns (total 3 columns):\n",
      "Postcode         287 non-null object\n",
      "Borough          287 non-null object\n",
      "Neighbourhood    287 non-null object\n",
      "dtypes: object(3)\n",
      "memory usage: 6.8+ KB\n"
     ]
    }
   ],
   "source": [
    "df.info() # The dataframe will consist of three columns: PostalCode, Borough, and Neighborhood"
   ]
  },
  {
   "cell_type": "code",
   "execution_count": 6,
   "metadata": {
    "ExecuteTime": {
     "end_time": "2020-03-05T12:01:01.862522Z",
     "start_time": "2020-03-05T12:01:01.839667Z"
    }
   },
   "outputs": [
    {
     "data": {
      "text/html": [
       "<div>\n",
       "<style scoped>\n",
       "    .dataframe tbody tr th:only-of-type {\n",
       "        vertical-align: middle;\n",
       "    }\n",
       "\n",
       "    .dataframe tbody tr th {\n",
       "        vertical-align: top;\n",
       "    }\n",
       "\n",
       "    .dataframe thead th {\n",
       "        text-align: right;\n",
       "    }\n",
       "</style>\n",
       "<table border=\"1\" class=\"dataframe\">\n",
       "  <thead>\n",
       "    <tr style=\"text-align: right;\">\n",
       "      <th></th>\n",
       "      <th>Postcode</th>\n",
       "      <th>Borough</th>\n",
       "      <th>Neighbourhood</th>\n",
       "    </tr>\n",
       "  </thead>\n",
       "  <tbody>\n",
       "    <tr>\n",
       "      <th>count</th>\n",
       "      <td>287</td>\n",
       "      <td>287</td>\n",
       "      <td>287</td>\n",
       "    </tr>\n",
       "    <tr>\n",
       "      <th>unique</th>\n",
       "      <td>180</td>\n",
       "      <td>12</td>\n",
       "      <td>208</td>\n",
       "    </tr>\n",
       "    <tr>\n",
       "      <th>top</th>\n",
       "      <td>M9V</td>\n",
       "      <td>Not assigned</td>\n",
       "      <td>Not assigned</td>\n",
       "    </tr>\n",
       "    <tr>\n",
       "      <th>freq</th>\n",
       "      <td>8</td>\n",
       "      <td>77</td>\n",
       "      <td>78</td>\n",
       "    </tr>\n",
       "  </tbody>\n",
       "</table>\n",
       "</div>"
      ],
      "text/plain": [
       "       Postcode       Borough Neighbourhood\n",
       "count       287           287           287\n",
       "unique      180            12           208\n",
       "top         M9V  Not assigned  Not assigned\n",
       "freq          8            77            78"
      ]
     },
     "execution_count": 6,
     "metadata": {},
     "output_type": "execute_result"
    }
   ],
   "source": [
    "df.describe()"
   ]
  },
  {
   "cell_type": "code",
   "execution_count": 7,
   "metadata": {
    "ExecuteTime": {
     "end_time": "2020-03-05T12:01:16.201133Z",
     "start_time": "2020-03-05T12:01:16.185863Z"
    }
   },
   "outputs": [
    {
     "data": {
      "text/html": [
       "<div>\n",
       "<style scoped>\n",
       "    .dataframe tbody tr th:only-of-type {\n",
       "        vertical-align: middle;\n",
       "    }\n",
       "\n",
       "    .dataframe tbody tr th {\n",
       "        vertical-align: top;\n",
       "    }\n",
       "\n",
       "    .dataframe thead th {\n",
       "        text-align: right;\n",
       "    }\n",
       "</style>\n",
       "<table border=\"1\" class=\"dataframe\">\n",
       "  <thead>\n",
       "    <tr style=\"text-align: right;\">\n",
       "      <th></th>\n",
       "      <th>Postcode</th>\n",
       "      <th>Borough</th>\n",
       "      <th>Neighbourhood</th>\n",
       "    </tr>\n",
       "  </thead>\n",
       "  <tbody>\n",
       "    <tr>\n",
       "      <th>0</th>\n",
       "      <td>M1A</td>\n",
       "      <td>Not assigned</td>\n",
       "      <td>Not assigned</td>\n",
       "    </tr>\n",
       "    <tr>\n",
       "      <th>1</th>\n",
       "      <td>M2A</td>\n",
       "      <td>Not assigned</td>\n",
       "      <td>Not assigned</td>\n",
       "    </tr>\n",
       "    <tr>\n",
       "      <th>2</th>\n",
       "      <td>M3A</td>\n",
       "      <td>North York</td>\n",
       "      <td>Parkwoods</td>\n",
       "    </tr>\n",
       "    <tr>\n",
       "      <th>3</th>\n",
       "      <td>M4A</td>\n",
       "      <td>North York</td>\n",
       "      <td>Victoria Village</td>\n",
       "    </tr>\n",
       "    <tr>\n",
       "      <th>4</th>\n",
       "      <td>M5A</td>\n",
       "      <td>Downtown Toronto</td>\n",
       "      <td>Harbourfront</td>\n",
       "    </tr>\n",
       "  </tbody>\n",
       "</table>\n",
       "</div>"
      ],
      "text/plain": [
       "  Postcode           Borough     Neighbourhood\n",
       "0      M1A      Not assigned      Not assigned\n",
       "1      M2A      Not assigned      Not assigned\n",
       "2      M3A        North York         Parkwoods\n",
       "3      M4A        North York  Victoria Village\n",
       "4      M5A  Downtown Toronto      Harbourfront"
      ]
     },
     "execution_count": 7,
     "metadata": {},
     "output_type": "execute_result"
    }
   ],
   "source": [
    "df.head()"
   ]
  },
  {
   "cell_type": "code",
   "execution_count": 8,
   "metadata": {
    "ExecuteTime": {
     "end_time": "2020-03-05T12:01:28.060709Z",
     "start_time": "2020-03-05T12:01:28.056728Z"
    }
   },
   "outputs": [
    {
     "data": {
      "text/plain": [
       "Index(['Postcode', 'Borough', 'Neighbourhood'], dtype='object')"
      ]
     },
     "execution_count": 8,
     "metadata": {},
     "output_type": "execute_result"
    }
   ],
   "source": [
    "df.columns"
   ]
  },
  {
   "cell_type": "markdown",
   "metadata": {},
   "source": [
    "Only process the cells that have an assigned borough. Ignore cells with a borough that is Not assigned. More than one neighborhood can exist in one postal code area. "
   ]
  },
  {
   "cell_type": "code",
   "execution_count": 10,
   "metadata": {
    "ExecuteTime": {
     "end_time": "2020-03-05T12:03:49.458650Z",
     "start_time": "2020-03-05T12:03:49.455682Z"
    }
   },
   "outputs": [],
   "source": [
    "COL_NAME_POSTCODE = \"Postcode\"\n",
    "COL_NAME_BOROUGH = \"Borough\"\n",
    "COL_NAME_NEIGHBOURHOOD = \"Neighbourhood\"\n",
    "\n",
    "CONST_NOT_ASSIGNED = \"Not assigned\""
   ]
  },
  {
   "cell_type": "code",
   "execution_count": 11,
   "metadata": {
    "ExecuteTime": {
     "end_time": "2020-03-05T12:03:55.266961Z",
     "start_time": "2020-03-05T12:03:55.262972Z"
    }
   },
   "outputs": [],
   "source": [
    "df = df[df[COL_NAME_BOROUGH] != CONST_NOT_ASSIGNED]"
   ]
  },
  {
   "cell_type": "code",
   "execution_count": 14,
   "metadata": {
    "ExecuteTime": {
     "end_time": "2020-03-05T12:04:16.605940Z",
     "start_time": "2020-03-05T12:04:16.599214Z"
    }
   },
   "outputs": [
    {
     "name": "stdout",
     "output_type": "stream",
     "text": [
      "<class 'pandas.core.frame.DataFrame'>\n",
      "Int64Index: 210 entries, 2 to 285\n",
      "Data columns (total 3 columns):\n",
      "Postcode         210 non-null object\n",
      "Borough          210 non-null object\n",
      "Neighbourhood    210 non-null object\n",
      "dtypes: object(3)\n",
      "memory usage: 6.6+ KB\n"
     ]
    }
   ],
   "source": [
    "df.info()"
   ]
  },
  {
   "cell_type": "code",
   "execution_count": 15,
   "metadata": {
    "ExecuteTime": {
     "end_time": "2020-03-05T12:04:29.835519Z",
     "start_time": "2020-03-05T12:04:29.832543Z"
    }
   },
   "outputs": [
    {
     "name": "stdout",
     "output_type": "stream",
     "text": [
      "(row, column) = (210, 3)\n"
     ]
    }
   ],
   "source": [
    "print(\"(row, column) = %s\" % str(df.shape))\n",
    "# before: (row, column) = (287, 3)\n",
    "# after: (row, column) = (210, 3)"
   ]
  },
  {
   "cell_type": "code",
   "execution_count": 16,
   "metadata": {
    "ExecuteTime": {
     "end_time": "2020-03-05T12:05:10.783860Z",
     "start_time": "2020-03-05T12:05:10.767097Z"
    }
   },
   "outputs": [
    {
     "data": {
      "text/html": [
       "<div>\n",
       "<style scoped>\n",
       "    .dataframe tbody tr th:only-of-type {\n",
       "        vertical-align: middle;\n",
       "    }\n",
       "\n",
       "    .dataframe tbody tr th {\n",
       "        vertical-align: top;\n",
       "    }\n",
       "\n",
       "    .dataframe thead th {\n",
       "        text-align: right;\n",
       "    }\n",
       "</style>\n",
       "<table border=\"1\" class=\"dataframe\">\n",
       "  <thead>\n",
       "    <tr style=\"text-align: right;\">\n",
       "      <th></th>\n",
       "      <th>Postcode</th>\n",
       "      <th>Borough</th>\n",
       "      <th>Neighbourhood</th>\n",
       "    </tr>\n",
       "  </thead>\n",
       "  <tbody>\n",
       "    <tr>\n",
       "      <th>2</th>\n",
       "      <td>M3A</td>\n",
       "      <td>North York</td>\n",
       "      <td>Parkwoods</td>\n",
       "    </tr>\n",
       "    <tr>\n",
       "      <th>3</th>\n",
       "      <td>M4A</td>\n",
       "      <td>North York</td>\n",
       "      <td>Victoria Village</td>\n",
       "    </tr>\n",
       "    <tr>\n",
       "      <th>4</th>\n",
       "      <td>M5A</td>\n",
       "      <td>Downtown Toronto</td>\n",
       "      <td>Harbourfront</td>\n",
       "    </tr>\n",
       "    <tr>\n",
       "      <th>5</th>\n",
       "      <td>M6A</td>\n",
       "      <td>North York</td>\n",
       "      <td>Lawrence Heights</td>\n",
       "    </tr>\n",
       "    <tr>\n",
       "      <th>6</th>\n",
       "      <td>M6A</td>\n",
       "      <td>North York</td>\n",
       "      <td>Lawrence Manor</td>\n",
       "    </tr>\n",
       "  </tbody>\n",
       "</table>\n",
       "</div>"
      ],
      "text/plain": [
       "  Postcode           Borough     Neighbourhood\n",
       "2      M3A        North York         Parkwoods\n",
       "3      M4A        North York  Victoria Village\n",
       "4      M5A  Downtown Toronto      Harbourfront\n",
       "5      M6A        North York  Lawrence Heights\n",
       "6      M6A        North York    Lawrence Manor"
      ]
     },
     "execution_count": 16,
     "metadata": {},
     "output_type": "execute_result"
    }
   ],
   "source": [
    "df.head()"
   ]
  },
  {
   "cell_type": "markdown",
   "metadata": {},
   "source": [
    "Combing the neighborhoods having the same postcode"
   ]
  },
  {
   "cell_type": "code",
   "execution_count": 17,
   "metadata": {
    "ExecuteTime": {
     "end_time": "2020-03-05T12:06:45.926334Z",
     "start_time": "2020-03-05T12:06:45.912397Z"
    }
   },
   "outputs": [],
   "source": [
    "df_combine = df.groupby(by=[COL_NAME_POSTCODE, \n",
    "                            COL_NAME_BOROUGH]).agg(lambda x: ','.join(x)).reset_index()"
   ]
  },
  {
   "cell_type": "code",
   "execution_count": 25,
   "metadata": {
    "ExecuteTime": {
     "end_time": "2020-03-05T12:07:55.487199Z",
     "start_time": "2020-03-05T12:07:55.480214Z"
    }
   },
   "outputs": [
    {
     "data": {
      "text/html": [
       "<div>\n",
       "<style scoped>\n",
       "    .dataframe tbody tr th:only-of-type {\n",
       "        vertical-align: middle;\n",
       "    }\n",
       "\n",
       "    .dataframe tbody tr th {\n",
       "        vertical-align: top;\n",
       "    }\n",
       "\n",
       "    .dataframe thead th {\n",
       "        text-align: right;\n",
       "    }\n",
       "</style>\n",
       "<table border=\"1\" class=\"dataframe\">\n",
       "  <thead>\n",
       "    <tr style=\"text-align: right;\">\n",
       "      <th></th>\n",
       "      <th>Postcode</th>\n",
       "      <th>Borough</th>\n",
       "      <th>Neighbourhood</th>\n",
       "    </tr>\n",
       "  </thead>\n",
       "  <tbody>\n",
       "    <tr>\n",
       "      <th>0</th>\n",
       "      <td>M1B</td>\n",
       "      <td>Scarborough</td>\n",
       "      <td>Rouge,Malvern</td>\n",
       "    </tr>\n",
       "    <tr>\n",
       "      <th>1</th>\n",
       "      <td>M1C</td>\n",
       "      <td>Scarborough</td>\n",
       "      <td>Highland Creek,Rouge Hill,Port Union</td>\n",
       "    </tr>\n",
       "    <tr>\n",
       "      <th>2</th>\n",
       "      <td>M1E</td>\n",
       "      <td>Scarborough</td>\n",
       "      <td>Guildwood,Morningside,West Hill</td>\n",
       "    </tr>\n",
       "    <tr>\n",
       "      <th>3</th>\n",
       "      <td>M1G</td>\n",
       "      <td>Scarborough</td>\n",
       "      <td>Woburn</td>\n",
       "    </tr>\n",
       "    <tr>\n",
       "      <th>4</th>\n",
       "      <td>M1H</td>\n",
       "      <td>Scarborough</td>\n",
       "      <td>Cedarbrae</td>\n",
       "    </tr>\n",
       "  </tbody>\n",
       "</table>\n",
       "</div>"
      ],
      "text/plain": [
       "  Postcode      Borough                         Neighbourhood\n",
       "0      M1B  Scarborough                         Rouge,Malvern\n",
       "1      M1C  Scarborough  Highland Creek,Rouge Hill,Port Union\n",
       "2      M1E  Scarborough       Guildwood,Morningside,West Hill\n",
       "3      M1G  Scarborough                                Woburn\n",
       "4      M1H  Scarborough                             Cedarbrae"
      ]
     },
     "execution_count": 25,
     "metadata": {},
     "output_type": "execute_result"
    }
   ],
   "source": [
    "df_combine.head()"
   ]
  },
  {
   "cell_type": "markdown",
   "metadata": {},
   "source": [
    "For example, in the table on the Wikipedia page, you will notice that M5B is listed twice and has two neighborhoods: Ryerson and Garden District. These two rows will be combined into one row with the neighborhoods separated with a comma. "
   ]
  },
  {
   "cell_type": "code",
   "execution_count": 35,
   "metadata": {
    "ExecuteTime": {
     "end_time": "2020-03-05T12:11:20.087050Z",
     "start_time": "2020-03-05T12:11:20.080069Z"
    }
   },
   "outputs": [
    {
     "data": {
      "text/html": [
       "<div>\n",
       "<style scoped>\n",
       "    .dataframe tbody tr th:only-of-type {\n",
       "        vertical-align: middle;\n",
       "    }\n",
       "\n",
       "    .dataframe tbody tr th {\n",
       "        vertical-align: top;\n",
       "    }\n",
       "\n",
       "    .dataframe thead th {\n",
       "        text-align: right;\n",
       "    }\n",
       "</style>\n",
       "<table border=\"1\" class=\"dataframe\">\n",
       "  <thead>\n",
       "    <tr style=\"text-align: right;\">\n",
       "      <th></th>\n",
       "      <th>Postcode</th>\n",
       "      <th>Borough</th>\n",
       "      <th>Neighbourhood</th>\n",
       "    </tr>\n",
       "  </thead>\n",
       "  <tbody>\n",
       "    <tr>\n",
       "      <th>54</th>\n",
       "      <td>M5B</td>\n",
       "      <td>Downtown Toronto</td>\n",
       "      <td>Ryerson,Garden District</td>\n",
       "    </tr>\n",
       "  </tbody>\n",
       "</table>\n",
       "</div>"
      ],
      "text/plain": [
       "   Postcode           Borough            Neighbourhood\n",
       "54      M5B  Downtown Toronto  Ryerson,Garden District"
      ]
     },
     "execution_count": 35,
     "metadata": {},
     "output_type": "execute_result"
    }
   ],
   "source": [
    "df_combine[(df_combine[COL_NAME_POSTCODE]==\"M5B\")]"
   ]
  },
  {
   "cell_type": "markdown",
   "metadata": {},
   "source": [
    "If a cell has a borough but a Not assigned neighborhood, then the neighborhood will be the same as the borough."
   ]
  },
  {
   "cell_type": "code",
   "execution_count": 36,
   "metadata": {
    "ExecuteTime": {
     "end_time": "2020-03-05T12:12:14.496166Z",
     "start_time": "2020-03-05T12:12:14.480426Z"
    }
   },
   "outputs": [
    {
     "data": {
      "text/html": [
       "<div>\n",
       "<style scoped>\n",
       "    .dataframe tbody tr th:only-of-type {\n",
       "        vertical-align: middle;\n",
       "    }\n",
       "\n",
       "    .dataframe tbody tr th {\n",
       "        vertical-align: top;\n",
       "    }\n",
       "\n",
       "    .dataframe thead th {\n",
       "        text-align: right;\n",
       "    }\n",
       "</style>\n",
       "<table border=\"1\" class=\"dataframe\">\n",
       "  <thead>\n",
       "    <tr style=\"text-align: right;\">\n",
       "      <th></th>\n",
       "      <th>Postcode</th>\n",
       "      <th>Borough</th>\n",
       "      <th>Neighbourhood</th>\n",
       "    </tr>\n",
       "  </thead>\n",
       "  <tbody>\n",
       "    <tr>\n",
       "      <th>85</th>\n",
       "      <td>M7A</td>\n",
       "      <td>Queen's Park</td>\n",
       "      <td>Not assigned</td>\n",
       "    </tr>\n",
       "  </tbody>\n",
       "</table>\n",
       "</div>"
      ],
      "text/plain": [
       "   Postcode       Borough Neighbourhood\n",
       "85      M7A  Queen's Park  Not assigned"
      ]
     },
     "execution_count": 36,
     "metadata": {},
     "output_type": "execute_result"
    }
   ],
   "source": [
    "df_combine_filter = df_combine[df_combine[COL_NAME_NEIGHBOURHOOD]==CONST_NOT_ASSIGNED]\n",
    "df_combine_filter"
   ]
  },
  {
   "cell_type": "code",
   "execution_count": 37,
   "metadata": {
    "ExecuteTime": {
     "end_time": "2020-03-05T12:14:07.528930Z",
     "start_time": "2020-03-05T12:14:07.518926Z"
    }
   },
   "outputs": [],
   "source": [
    "df_combine[COL_NAME_NEIGHBOURHOOD] = df_combine.apply(\n",
    "    lambda row: row[COL_NAME_BOROUGH] \n",
    "        if row[COL_NAME_NEIGHBOURHOOD]==CONST_NOT_ASSIGNED \n",
    "        else row[COL_NAME_NEIGHBOURHOOD], axis=1)  # axis=1: column"
   ]
  },
  {
   "cell_type": "code",
   "execution_count": 39,
   "metadata": {
    "ExecuteTime": {
     "end_time": "2020-03-05T12:14:39.951189Z",
     "start_time": "2020-03-05T12:14:39.944208Z"
    }
   },
   "outputs": [
    {
     "data": {
      "text/html": [
       "<div>\n",
       "<style scoped>\n",
       "    .dataframe tbody tr th:only-of-type {\n",
       "        vertical-align: middle;\n",
       "    }\n",
       "\n",
       "    .dataframe tbody tr th {\n",
       "        vertical-align: top;\n",
       "    }\n",
       "\n",
       "    .dataframe thead th {\n",
       "        text-align: right;\n",
       "    }\n",
       "</style>\n",
       "<table border=\"1\" class=\"dataframe\">\n",
       "  <thead>\n",
       "    <tr style=\"text-align: right;\">\n",
       "      <th></th>\n",
       "      <th>Postcode</th>\n",
       "      <th>Borough</th>\n",
       "      <th>Neighbourhood</th>\n",
       "    </tr>\n",
       "  </thead>\n",
       "  <tbody>\n",
       "    <tr>\n",
       "      <th>85</th>\n",
       "      <td>M7A</td>\n",
       "      <td>Queen's Park</td>\n",
       "      <td>Queen's Park</td>\n",
       "    </tr>\n",
       "  </tbody>\n",
       "</table>\n",
       "</div>"
      ],
      "text/plain": [
       "   Postcode       Borough Neighbourhood\n",
       "85      M7A  Queen's Park  Queen's Park"
      ]
     },
     "execution_count": 39,
     "metadata": {},
     "output_type": "execute_result"
    }
   ],
   "source": [
    "df_combine[(df_combine[COL_NAME_POSTCODE]==\"M7A\")]"
   ]
  },
  {
   "cell_type": "code",
   "execution_count": 40,
   "metadata": {
    "ExecuteTime": {
     "end_time": "2020-03-05T12:15:39.757337Z",
     "start_time": "2020-03-05T12:15:39.751354Z"
    }
   },
   "outputs": [
    {
     "name": "stdout",
     "output_type": "stream",
     "text": [
      "<class 'pandas.core.frame.DataFrame'>\n",
      "RangeIndex: 103 entries, 0 to 102\n",
      "Data columns (total 3 columns):\n",
      "Postcode         103 non-null object\n",
      "Borough          103 non-null object\n",
      "Neighbourhood    103 non-null object\n",
      "dtypes: object(3)\n",
      "memory usage: 2.5+ KB\n"
     ]
    }
   ],
   "source": [
    "df_combine.info()"
   ]
  },
  {
   "cell_type": "code",
   "execution_count": 45,
   "metadata": {
    "ExecuteTime": {
     "end_time": "2020-03-05T12:16:35.154433Z",
     "start_time": "2020-03-05T12:16:35.150444Z"
    }
   },
   "outputs": [
    {
     "name": "stdout",
     "output_type": "stream",
     "text": [
      "(row, column) = (103, 3)\n"
     ]
    }
   ],
   "source": [
    "# Get the shape of the dataframe\n",
    "print(\"(row, column) = %s\" % str(df_combine.shape))"
   ]
  },
  {
   "cell_type": "markdown",
   "metadata": {},
   "source": [
    "Now that you have built a dataframe of the postal code of each neighborhood along with the borough name and neighborhood name, in order to utilize the Foursquare location data, we need to get the latitude and the longitude coordinates of each neighborhood.\n",
    "\n",
    "In an older version of this course, we were leveraging the Google Maps Geocoding API to get the latitude and the longitude coordinates of each neighborhood. However, recently Google started charging for their API: http://geoawesomeness.com/developers-up-in-arms-over-google-maps-api-insane-price-hike/, so we will use the Geocoder Python package instead: https://geocoder.readthedocs.io/index.html.\n",
    "\n",
    "The problem with this Package is you have to be persistent sometimes in order to get the geographical coordinates of a given postal code. So you can make a call to get the latitude and longitude coordinates of a given postal code and the result would be None, and then make the call again and you would get the coordinates. So, in order to make sure that you get the coordinates for all of our neighborhoods, you can run a while loop for each postal code. Taking postal code M5G as an example, your code would look something like this:"
   ]
  },
  {
   "cell_type": "markdown",
   "metadata": {},
   "source": [
    "# Get the latitude and the longitude coordinates of each neighborhood"
   ]
  },
  {
   "cell_type": "code",
   "execution_count": 46,
   "metadata": {
    "ExecuteTime": {
     "end_time": "2020-03-05T12:19:04.305421Z",
     "start_time": "2020-03-05T12:19:04.299442Z"
    }
   },
   "outputs": [],
   "source": [
    "COL_NAME_POSTAL_CODE = \"Postal Code\"\n",
    "COL_NAME_LATITUDE = \"Latitude\"\n",
    "COL_NAME_LONGITUDE = \"Longitude\"\n",
    "\n",
    "file_input_path = \"./data/Geospatial_Coordinates.csv\"\n",
    "\n",
    "# Loading file csv\n",
    "df_coordinates = pd.read_csv(file_input_path, header=0)"
   ]
  },
  {
   "cell_type": "code",
   "execution_count": 47,
   "metadata": {
    "ExecuteTime": {
     "end_time": "2020-03-05T12:19:10.497627Z",
     "start_time": "2020-03-05T12:19:10.494629Z"
    }
   },
   "outputs": [
    {
     "name": "stdout",
     "output_type": "stream",
     "text": [
      "(row, column) = (103, 3)\n"
     ]
    }
   ],
   "source": [
    "print(\"(row, column) = %s\" % str(df_coordinates.shape))"
   ]
  },
  {
   "cell_type": "code",
   "execution_count": 48,
   "metadata": {
    "ExecuteTime": {
     "end_time": "2020-03-05T12:19:27.949680Z",
     "start_time": "2020-03-05T12:19:27.942695Z"
    }
   },
   "outputs": [
    {
     "data": {
      "text/html": [
       "<div>\n",
       "<style scoped>\n",
       "    .dataframe tbody tr th:only-of-type {\n",
       "        vertical-align: middle;\n",
       "    }\n",
       "\n",
       "    .dataframe tbody tr th {\n",
       "        vertical-align: top;\n",
       "    }\n",
       "\n",
       "    .dataframe thead th {\n",
       "        text-align: right;\n",
       "    }\n",
       "</style>\n",
       "<table border=\"1\" class=\"dataframe\">\n",
       "  <thead>\n",
       "    <tr style=\"text-align: right;\">\n",
       "      <th></th>\n",
       "      <th>Postal Code</th>\n",
       "      <th>Latitude</th>\n",
       "      <th>Longitude</th>\n",
       "    </tr>\n",
       "  </thead>\n",
       "  <tbody>\n",
       "    <tr>\n",
       "      <th>0</th>\n",
       "      <td>M1B</td>\n",
       "      <td>43.806686</td>\n",
       "      <td>-79.194353</td>\n",
       "    </tr>\n",
       "    <tr>\n",
       "      <th>1</th>\n",
       "      <td>M1C</td>\n",
       "      <td>43.784535</td>\n",
       "      <td>-79.160497</td>\n",
       "    </tr>\n",
       "    <tr>\n",
       "      <th>2</th>\n",
       "      <td>M1E</td>\n",
       "      <td>43.763573</td>\n",
       "      <td>-79.188711</td>\n",
       "    </tr>\n",
       "  </tbody>\n",
       "</table>\n",
       "</div>"
      ],
      "text/plain": [
       "  Postal Code   Latitude  Longitude\n",
       "0         M1B  43.806686 -79.194353\n",
       "1         M1C  43.784535 -79.160497\n",
       "2         M1E  43.763573 -79.188711"
      ]
     },
     "execution_count": 48,
     "metadata": {},
     "output_type": "execute_result"
    }
   ],
   "source": [
    "df_coordinates.head(3)"
   ]
  },
  {
   "cell_type": "markdown",
   "metadata": {},
   "source": [
    "**Merging two dataframes**"
   ]
  },
  {
   "cell_type": "code",
   "execution_count": 49,
   "metadata": {
    "ExecuteTime": {
     "end_time": "2020-03-05T12:20:16.906877Z",
     "start_time": "2020-03-05T12:20:16.901890Z"
    }
   },
   "outputs": [
    {
     "data": {
      "text/plain": [
       "Index(['Postcode', 'Borough', 'Neighbourhood'], dtype='object')"
      ]
     },
     "execution_count": 49,
     "metadata": {},
     "output_type": "execute_result"
    }
   ],
   "source": [
    "df_combine.columns"
   ]
  },
  {
   "cell_type": "code",
   "execution_count": 50,
   "metadata": {
    "ExecuteTime": {
     "end_time": "2020-03-05T12:20:26.090337Z",
     "start_time": "2020-03-05T12:20:26.087347Z"
    }
   },
   "outputs": [
    {
     "data": {
      "text/plain": [
       "Index(['Postal Code', 'Latitude', 'Longitude'], dtype='object')"
      ]
     },
     "execution_count": 50,
     "metadata": {},
     "output_type": "execute_result"
    }
   ],
   "source": [
    "df_coordinates.columns"
   ]
  },
  {
   "cell_type": "code",
   "execution_count": 51,
   "metadata": {
    "ExecuteTime": {
     "end_time": "2020-03-05T12:20:55.973409Z",
     "start_time": "2020-03-05T12:20:55.957786Z"
    }
   },
   "outputs": [],
   "source": [
    "df_merged = pd.merge(df_combine, df_coordinates, \n",
    "                     left_on=COL_NAME_POSTCODE, right_on=COL_NAME_POSTAL_CODE,\n",
    "                     how=\"inner\")"
   ]
  },
  {
   "cell_type": "code",
   "execution_count": 52,
   "metadata": {
    "ExecuteTime": {
     "end_time": "2020-03-05T12:21:02.830341Z",
     "start_time": "2020-03-05T12:21:02.822337Z"
    }
   },
   "outputs": [
    {
     "name": "stdout",
     "output_type": "stream",
     "text": [
      "<class 'pandas.core.frame.DataFrame'>\n",
      "Int64Index: 103 entries, 0 to 102\n",
      "Data columns (total 6 columns):\n",
      "Postcode         103 non-null object\n",
      "Borough          103 non-null object\n",
      "Neighbourhood    103 non-null object\n",
      "Postal Code      103 non-null object\n",
      "Latitude         103 non-null float64\n",
      "Longitude        103 non-null float64\n",
      "dtypes: float64(2), object(4)\n",
      "memory usage: 5.6+ KB\n"
     ]
    }
   ],
   "source": [
    "df_merged.info()"
   ]
  },
  {
   "cell_type": "code",
   "execution_count": 53,
   "metadata": {
    "ExecuteTime": {
     "end_time": "2020-03-05T12:21:12.536633Z",
     "start_time": "2020-03-05T12:21:12.521235Z"
    }
   },
   "outputs": [
    {
     "data": {
      "text/html": [
       "<div>\n",
       "<style scoped>\n",
       "    .dataframe tbody tr th:only-of-type {\n",
       "        vertical-align: middle;\n",
       "    }\n",
       "\n",
       "    .dataframe tbody tr th {\n",
       "        vertical-align: top;\n",
       "    }\n",
       "\n",
       "    .dataframe thead th {\n",
       "        text-align: right;\n",
       "    }\n",
       "</style>\n",
       "<table border=\"1\" class=\"dataframe\">\n",
       "  <thead>\n",
       "    <tr style=\"text-align: right;\">\n",
       "      <th></th>\n",
       "      <th>Postcode</th>\n",
       "      <th>Borough</th>\n",
       "      <th>Neighbourhood</th>\n",
       "      <th>Postal Code</th>\n",
       "      <th>Latitude</th>\n",
       "      <th>Longitude</th>\n",
       "    </tr>\n",
       "  </thead>\n",
       "  <tbody>\n",
       "    <tr>\n",
       "      <th>0</th>\n",
       "      <td>M1B</td>\n",
       "      <td>Scarborough</td>\n",
       "      <td>Rouge,Malvern</td>\n",
       "      <td>M1B</td>\n",
       "      <td>43.806686</td>\n",
       "      <td>-79.194353</td>\n",
       "    </tr>\n",
       "    <tr>\n",
       "      <th>1</th>\n",
       "      <td>M1C</td>\n",
       "      <td>Scarborough</td>\n",
       "      <td>Highland Creek,Rouge Hill,Port Union</td>\n",
       "      <td>M1C</td>\n",
       "      <td>43.784535</td>\n",
       "      <td>-79.160497</td>\n",
       "    </tr>\n",
       "    <tr>\n",
       "      <th>2</th>\n",
       "      <td>M1E</td>\n",
       "      <td>Scarborough</td>\n",
       "      <td>Guildwood,Morningside,West Hill</td>\n",
       "      <td>M1E</td>\n",
       "      <td>43.763573</td>\n",
       "      <td>-79.188711</td>\n",
       "    </tr>\n",
       "    <tr>\n",
       "      <th>3</th>\n",
       "      <td>M1G</td>\n",
       "      <td>Scarborough</td>\n",
       "      <td>Woburn</td>\n",
       "      <td>M1G</td>\n",
       "      <td>43.770992</td>\n",
       "      <td>-79.216917</td>\n",
       "    </tr>\n",
       "    <tr>\n",
       "      <th>4</th>\n",
       "      <td>M1H</td>\n",
       "      <td>Scarborough</td>\n",
       "      <td>Cedarbrae</td>\n",
       "      <td>M1H</td>\n",
       "      <td>43.773136</td>\n",
       "      <td>-79.239476</td>\n",
       "    </tr>\n",
       "  </tbody>\n",
       "</table>\n",
       "</div>"
      ],
      "text/plain": [
       "  Postcode      Borough                         Neighbourhood Postal Code  \\\n",
       "0      M1B  Scarborough                         Rouge,Malvern         M1B   \n",
       "1      M1C  Scarborough  Highland Creek,Rouge Hill,Port Union         M1C   \n",
       "2      M1E  Scarborough       Guildwood,Morningside,West Hill         M1E   \n",
       "3      M1G  Scarborough                                Woburn         M1G   \n",
       "4      M1H  Scarborough                             Cedarbrae         M1H   \n",
       "\n",
       "    Latitude  Longitude  \n",
       "0  43.806686 -79.194353  \n",
       "1  43.784535 -79.160497  \n",
       "2  43.763573 -79.188711  \n",
       "3  43.770992 -79.216917  \n",
       "4  43.773136 -79.239476  "
      ]
     },
     "execution_count": 53,
     "metadata": {},
     "output_type": "execute_result"
    }
   ],
   "source": [
    "df_merged.head()"
   ]
  },
  {
   "cell_type": "code",
   "execution_count": 54,
   "metadata": {
    "ExecuteTime": {
     "end_time": "2020-03-05T12:21:29.807237Z",
     "start_time": "2020-03-05T12:21:29.790533Z"
    }
   },
   "outputs": [
    {
     "data": {
      "text/plain": [
       "Index(['Postcode', 'Borough', 'Neighbourhood', 'Postal Code', 'Latitude',\n",
       "       'Longitude'],\n",
       "      dtype='object')"
      ]
     },
     "execution_count": 54,
     "metadata": {},
     "output_type": "execute_result"
    }
   ],
   "source": [
    "df_merged.columns"
   ]
  },
  {
   "cell_type": "code",
   "execution_count": 55,
   "metadata": {
    "ExecuteTime": {
     "end_time": "2020-03-05T12:22:14.436034Z",
     "start_time": "2020-03-05T12:22:14.431048Z"
    }
   },
   "outputs": [],
   "source": [
    "# Drop the same column of postal code\n",
    "df_merged.drop([COL_NAME_POSTAL_CODE], axis=1, inplace=True)"
   ]
  },
  {
   "cell_type": "code",
   "execution_count": 56,
   "metadata": {
    "ExecuteTime": {
     "end_time": "2020-03-05T12:22:19.555457Z",
     "start_time": "2020-03-05T12:22:19.550480Z"
    }
   },
   "outputs": [
    {
     "data": {
      "text/plain": [
       "Index(['Postcode', 'Borough', 'Neighbourhood', 'Latitude', 'Longitude'], dtype='object')"
      ]
     },
     "execution_count": 56,
     "metadata": {},
     "output_type": "execute_result"
    }
   ],
   "source": [
    "df_merged.columns"
   ]
  },
  {
   "cell_type": "code",
   "execution_count": 58,
   "metadata": {
    "ExecuteTime": {
     "end_time": "2020-03-05T12:22:48.946798Z",
     "start_time": "2020-03-05T12:22:48.943817Z"
    }
   },
   "outputs": [
    {
     "name": "stdout",
     "output_type": "stream",
     "text": [
      "(row, column) = (103, 5)\n"
     ]
    }
   ],
   "source": [
    "# Get the shape of the merged dataframe\n",
    "print(\"(row, column) = %s\" % str(df_merged.shape))"
   ]
  },
  {
   "cell_type": "markdown",
   "metadata": {},
   "source": [
    "# Explore and cluster the neighborhoods in Toronto"
   ]
  },
  {
   "cell_type": "markdown",
   "metadata": {},
   "source": [
    "Explore and cluster the neighborhoods in Toronto. You can decide to work with only boroughs that contain the word Toronto and then replicate the same analysis we did to the New York City data. It is up to you.\n",
    "\n",
    "Just make sure:\n",
    "\n",
    "* to add enough Markdown cells to explain what you decided to do and to report any observations you make.\n",
    "* to generate maps to visualize your neighborhoods and how they cluster together.\n",
    "Once you are happy with your analysis, submit a link to the new Notebook on your Github repository. (3 marks)"
   ]
  },
  {
   "cell_type": "code",
   "execution_count": 62,
   "metadata": {
    "ExecuteTime": {
     "end_time": "2020-03-05T12:31:44.899098Z",
     "start_time": "2020-03-05T12:31:44.894112Z"
    }
   },
   "outputs": [
    {
     "data": {
      "text/plain": [
       "array(['Scarborough', 'North York', 'East York', 'East Toronto',\n",
       "       'Central Toronto', 'Downtown Toronto', 'York', 'West Toronto',\n",
       "       \"Queen's Park\", 'Mississauga', 'Etobicoke'], dtype=object)"
      ]
     },
     "execution_count": 62,
     "metadata": {},
     "output_type": "execute_result"
    }
   ],
   "source": [
    "df_merged[COL_NAME_BOROUGH].unique()"
   ]
  },
  {
   "cell_type": "code",
   "execution_count": 65,
   "metadata": {
    "ExecuteTime": {
     "end_time": "2020-03-05T12:33:00.467077Z",
     "start_time": "2020-03-05T12:33:00.462099Z"
    }
   },
   "outputs": [],
   "source": [
    "# Filter with Toronto\n",
    "CONST_BOROUGH_TORONTO = \"Toronto\"\n",
    "df = df_merged[df_merged[COL_NAME_BOROUGH].str.contains(CONST_BOROUGH_TORONTO, case=False, regex=False)]"
   ]
  },
  {
   "cell_type": "code",
   "execution_count": 60,
   "metadata": {
    "ExecuteTime": {
     "end_time": "2020-03-05T12:30:58.605205Z",
     "start_time": "2020-03-05T12:30:58.598223Z"
    }
   },
   "outputs": [
    {
     "name": "stdout",
     "output_type": "stream",
     "text": [
      "<class 'pandas.core.frame.DataFrame'>\n",
      "Int64Index: 39 entries, 37 to 93\n",
      "Data columns (total 5 columns):\n",
      "Postcode         39 non-null object\n",
      "Borough          39 non-null object\n",
      "Neighbourhood    39 non-null object\n",
      "Latitude         39 non-null float64\n",
      "Longitude        39 non-null float64\n",
      "dtypes: float64(2), object(3)\n",
      "memory usage: 1.8+ KB\n"
     ]
    }
   ],
   "source": [
    "df.info()"
   ]
  },
  {
   "cell_type": "code",
   "execution_count": 64,
   "metadata": {
    "ExecuteTime": {
     "end_time": "2020-03-05T12:32:26.665774Z",
     "start_time": "2020-03-05T12:32:26.654791Z"
    },
    "scrolled": true
   },
   "outputs": [
    {
     "data": {
      "text/html": [
       "<div>\n",
       "<style scoped>\n",
       "    .dataframe tbody tr th:only-of-type {\n",
       "        vertical-align: middle;\n",
       "    }\n",
       "\n",
       "    .dataframe tbody tr th {\n",
       "        vertical-align: top;\n",
       "    }\n",
       "\n",
       "    .dataframe thead th {\n",
       "        text-align: right;\n",
       "    }\n",
       "</style>\n",
       "<table border=\"1\" class=\"dataframe\">\n",
       "  <thead>\n",
       "    <tr style=\"text-align: right;\">\n",
       "      <th></th>\n",
       "      <th>Postcode</th>\n",
       "      <th>Borough</th>\n",
       "      <th>Neighbourhood</th>\n",
       "      <th>Latitude</th>\n",
       "      <th>Longitude</th>\n",
       "    </tr>\n",
       "  </thead>\n",
       "  <tbody>\n",
       "    <tr>\n",
       "      <th>37</th>\n",
       "      <td>M4E</td>\n",
       "      <td>East Toronto</td>\n",
       "      <td>The Beaches</td>\n",
       "      <td>43.676357</td>\n",
       "      <td>-79.293031</td>\n",
       "    </tr>\n",
       "    <tr>\n",
       "      <th>41</th>\n",
       "      <td>M4K</td>\n",
       "      <td>East Toronto</td>\n",
       "      <td>The Danforth West,Riverdale</td>\n",
       "      <td>43.679557</td>\n",
       "      <td>-79.352188</td>\n",
       "    </tr>\n",
       "    <tr>\n",
       "      <th>42</th>\n",
       "      <td>M4L</td>\n",
       "      <td>East Toronto</td>\n",
       "      <td>The Beaches West,India Bazaar</td>\n",
       "      <td>43.668999</td>\n",
       "      <td>-79.315572</td>\n",
       "    </tr>\n",
       "    <tr>\n",
       "      <th>43</th>\n",
       "      <td>M4M</td>\n",
       "      <td>East Toronto</td>\n",
       "      <td>Studio District</td>\n",
       "      <td>43.659526</td>\n",
       "      <td>-79.340923</td>\n",
       "    </tr>\n",
       "    <tr>\n",
       "      <th>44</th>\n",
       "      <td>M4N</td>\n",
       "      <td>Central Toronto</td>\n",
       "      <td>Lawrence Park</td>\n",
       "      <td>43.728020</td>\n",
       "      <td>-79.388790</td>\n",
       "    </tr>\n",
       "    <tr>\n",
       "      <th>45</th>\n",
       "      <td>M4P</td>\n",
       "      <td>Central Toronto</td>\n",
       "      <td>Davisville North</td>\n",
       "      <td>43.712751</td>\n",
       "      <td>-79.390197</td>\n",
       "    </tr>\n",
       "    <tr>\n",
       "      <th>46</th>\n",
       "      <td>M4R</td>\n",
       "      <td>Central Toronto</td>\n",
       "      <td>North Toronto West</td>\n",
       "      <td>43.715383</td>\n",
       "      <td>-79.405678</td>\n",
       "    </tr>\n",
       "    <tr>\n",
       "      <th>47</th>\n",
       "      <td>M4S</td>\n",
       "      <td>Central Toronto</td>\n",
       "      <td>Davisville</td>\n",
       "      <td>43.704324</td>\n",
       "      <td>-79.388790</td>\n",
       "    </tr>\n",
       "    <tr>\n",
       "      <th>48</th>\n",
       "      <td>M4T</td>\n",
       "      <td>Central Toronto</td>\n",
       "      <td>Moore Park,Summerhill East</td>\n",
       "      <td>43.689574</td>\n",
       "      <td>-79.383160</td>\n",
       "    </tr>\n",
       "    <tr>\n",
       "      <th>49</th>\n",
       "      <td>M4V</td>\n",
       "      <td>Central Toronto</td>\n",
       "      <td>Deer Park,Forest Hill SE,Rathnelly,South Hill,...</td>\n",
       "      <td>43.686412</td>\n",
       "      <td>-79.400049</td>\n",
       "    </tr>\n",
       "    <tr>\n",
       "      <th>50</th>\n",
       "      <td>M4W</td>\n",
       "      <td>Downtown Toronto</td>\n",
       "      <td>Rosedale</td>\n",
       "      <td>43.679563</td>\n",
       "      <td>-79.377529</td>\n",
       "    </tr>\n",
       "    <tr>\n",
       "      <th>51</th>\n",
       "      <td>M4X</td>\n",
       "      <td>Downtown Toronto</td>\n",
       "      <td>Cabbagetown,St. James Town</td>\n",
       "      <td>43.667967</td>\n",
       "      <td>-79.367675</td>\n",
       "    </tr>\n",
       "    <tr>\n",
       "      <th>52</th>\n",
       "      <td>M4Y</td>\n",
       "      <td>Downtown Toronto</td>\n",
       "      <td>Church and Wellesley</td>\n",
       "      <td>43.665860</td>\n",
       "      <td>-79.383160</td>\n",
       "    </tr>\n",
       "    <tr>\n",
       "      <th>53</th>\n",
       "      <td>M5A</td>\n",
       "      <td>Downtown Toronto</td>\n",
       "      <td>Harbourfront</td>\n",
       "      <td>43.654260</td>\n",
       "      <td>-79.360636</td>\n",
       "    </tr>\n",
       "    <tr>\n",
       "      <th>54</th>\n",
       "      <td>M5B</td>\n",
       "      <td>Downtown Toronto</td>\n",
       "      <td>Ryerson,Garden District</td>\n",
       "      <td>43.657162</td>\n",
       "      <td>-79.378937</td>\n",
       "    </tr>\n",
       "    <tr>\n",
       "      <th>55</th>\n",
       "      <td>M5C</td>\n",
       "      <td>Downtown Toronto</td>\n",
       "      <td>St. James Town</td>\n",
       "      <td>43.651494</td>\n",
       "      <td>-79.375418</td>\n",
       "    </tr>\n",
       "    <tr>\n",
       "      <th>56</th>\n",
       "      <td>M5E</td>\n",
       "      <td>Downtown Toronto</td>\n",
       "      <td>Berczy Park</td>\n",
       "      <td>43.644771</td>\n",
       "      <td>-79.373306</td>\n",
       "    </tr>\n",
       "    <tr>\n",
       "      <th>57</th>\n",
       "      <td>M5G</td>\n",
       "      <td>Downtown Toronto</td>\n",
       "      <td>Central Bay Street</td>\n",
       "      <td>43.657952</td>\n",
       "      <td>-79.387383</td>\n",
       "    </tr>\n",
       "    <tr>\n",
       "      <th>58</th>\n",
       "      <td>M5H</td>\n",
       "      <td>Downtown Toronto</td>\n",
       "      <td>Adelaide,King,Richmond</td>\n",
       "      <td>43.650571</td>\n",
       "      <td>-79.384568</td>\n",
       "    </tr>\n",
       "    <tr>\n",
       "      <th>59</th>\n",
       "      <td>M5J</td>\n",
       "      <td>Downtown Toronto</td>\n",
       "      <td>Harbourfront East,Toronto Islands,Union Station</td>\n",
       "      <td>43.640816</td>\n",
       "      <td>-79.381752</td>\n",
       "    </tr>\n",
       "    <tr>\n",
       "      <th>60</th>\n",
       "      <td>M5K</td>\n",
       "      <td>Downtown Toronto</td>\n",
       "      <td>Design Exchange,Toronto Dominion Centre</td>\n",
       "      <td>43.647177</td>\n",
       "      <td>-79.381576</td>\n",
       "    </tr>\n",
       "    <tr>\n",
       "      <th>61</th>\n",
       "      <td>M5L</td>\n",
       "      <td>Downtown Toronto</td>\n",
       "      <td>Commerce Court,Victoria Hotel</td>\n",
       "      <td>43.648198</td>\n",
       "      <td>-79.379817</td>\n",
       "    </tr>\n",
       "    <tr>\n",
       "      <th>63</th>\n",
       "      <td>M5N</td>\n",
       "      <td>Central Toronto</td>\n",
       "      <td>Roselawn</td>\n",
       "      <td>43.711695</td>\n",
       "      <td>-79.416936</td>\n",
       "    </tr>\n",
       "    <tr>\n",
       "      <th>64</th>\n",
       "      <td>M5P</td>\n",
       "      <td>Central Toronto</td>\n",
       "      <td>Forest Hill North,Forest Hill West</td>\n",
       "      <td>43.696948</td>\n",
       "      <td>-79.411307</td>\n",
       "    </tr>\n",
       "    <tr>\n",
       "      <th>65</th>\n",
       "      <td>M5R</td>\n",
       "      <td>Central Toronto</td>\n",
       "      <td>The Annex,North Midtown,Yorkville</td>\n",
       "      <td>43.672710</td>\n",
       "      <td>-79.405678</td>\n",
       "    </tr>\n",
       "    <tr>\n",
       "      <th>66</th>\n",
       "      <td>M5S</td>\n",
       "      <td>Downtown Toronto</td>\n",
       "      <td>Harbord,University of Toronto</td>\n",
       "      <td>43.662696</td>\n",
       "      <td>-79.400049</td>\n",
       "    </tr>\n",
       "    <tr>\n",
       "      <th>67</th>\n",
       "      <td>M5T</td>\n",
       "      <td>Downtown Toronto</td>\n",
       "      <td>Chinatown,Grange Park,Kensington Market</td>\n",
       "      <td>43.653206</td>\n",
       "      <td>-79.400049</td>\n",
       "    </tr>\n",
       "    <tr>\n",
       "      <th>68</th>\n",
       "      <td>M5V</td>\n",
       "      <td>Downtown Toronto</td>\n",
       "      <td>CN Tower,Bathurst Quay,Island airport,Harbourf...</td>\n",
       "      <td>43.628947</td>\n",
       "      <td>-79.394420</td>\n",
       "    </tr>\n",
       "    <tr>\n",
       "      <th>69</th>\n",
       "      <td>M5W</td>\n",
       "      <td>Downtown Toronto</td>\n",
       "      <td>Stn A PO Boxes 25 The Esplanade</td>\n",
       "      <td>43.646435</td>\n",
       "      <td>-79.374846</td>\n",
       "    </tr>\n",
       "    <tr>\n",
       "      <th>70</th>\n",
       "      <td>M5X</td>\n",
       "      <td>Downtown Toronto</td>\n",
       "      <td>First Canadian Place,Underground city</td>\n",
       "      <td>43.648429</td>\n",
       "      <td>-79.382280</td>\n",
       "    </tr>\n",
       "    <tr>\n",
       "      <th>75</th>\n",
       "      <td>M6G</td>\n",
       "      <td>Downtown Toronto</td>\n",
       "      <td>Christie</td>\n",
       "      <td>43.669542</td>\n",
       "      <td>-79.422564</td>\n",
       "    </tr>\n",
       "    <tr>\n",
       "      <th>76</th>\n",
       "      <td>M6H</td>\n",
       "      <td>West Toronto</td>\n",
       "      <td>Dovercourt Village,Dufferin</td>\n",
       "      <td>43.669005</td>\n",
       "      <td>-79.442259</td>\n",
       "    </tr>\n",
       "    <tr>\n",
       "      <th>77</th>\n",
       "      <td>M6J</td>\n",
       "      <td>West Toronto</td>\n",
       "      <td>Little Portugal,Trinity</td>\n",
       "      <td>43.647927</td>\n",
       "      <td>-79.419750</td>\n",
       "    </tr>\n",
       "    <tr>\n",
       "      <th>78</th>\n",
       "      <td>M6K</td>\n",
       "      <td>West Toronto</td>\n",
       "      <td>Brockton,Exhibition Place,Parkdale Village</td>\n",
       "      <td>43.636847</td>\n",
       "      <td>-79.428191</td>\n",
       "    </tr>\n",
       "    <tr>\n",
       "      <th>82</th>\n",
       "      <td>M6P</td>\n",
       "      <td>West Toronto</td>\n",
       "      <td>High Park,The Junction South</td>\n",
       "      <td>43.661608</td>\n",
       "      <td>-79.464763</td>\n",
       "    </tr>\n",
       "    <tr>\n",
       "      <th>83</th>\n",
       "      <td>M6R</td>\n",
       "      <td>West Toronto</td>\n",
       "      <td>Parkdale,Roncesvalles</td>\n",
       "      <td>43.648960</td>\n",
       "      <td>-79.456325</td>\n",
       "    </tr>\n",
       "    <tr>\n",
       "      <th>84</th>\n",
       "      <td>M6S</td>\n",
       "      <td>West Toronto</td>\n",
       "      <td>Runnymede,Swansea</td>\n",
       "      <td>43.651571</td>\n",
       "      <td>-79.484450</td>\n",
       "    </tr>\n",
       "    <tr>\n",
       "      <th>87</th>\n",
       "      <td>M7Y</td>\n",
       "      <td>East Toronto</td>\n",
       "      <td>Business Reply Mail Processing Centre 969 Eastern</td>\n",
       "      <td>43.662744</td>\n",
       "      <td>-79.321558</td>\n",
       "    </tr>\n",
       "    <tr>\n",
       "      <th>93</th>\n",
       "      <td>M9A</td>\n",
       "      <td>Downtown Toronto</td>\n",
       "      <td>Queen's Park</td>\n",
       "      <td>43.667856</td>\n",
       "      <td>-79.532242</td>\n",
       "    </tr>\n",
       "  </tbody>\n",
       "</table>\n",
       "</div>"
      ],
      "text/plain": [
       "   Postcode           Borough  \\\n",
       "37      M4E      East Toronto   \n",
       "41      M4K      East Toronto   \n",
       "42      M4L      East Toronto   \n",
       "43      M4M      East Toronto   \n",
       "44      M4N   Central Toronto   \n",
       "45      M4P   Central Toronto   \n",
       "46      M4R   Central Toronto   \n",
       "47      M4S   Central Toronto   \n",
       "48      M4T   Central Toronto   \n",
       "49      M4V   Central Toronto   \n",
       "50      M4W  Downtown Toronto   \n",
       "51      M4X  Downtown Toronto   \n",
       "52      M4Y  Downtown Toronto   \n",
       "53      M5A  Downtown Toronto   \n",
       "54      M5B  Downtown Toronto   \n",
       "55      M5C  Downtown Toronto   \n",
       "56      M5E  Downtown Toronto   \n",
       "57      M5G  Downtown Toronto   \n",
       "58      M5H  Downtown Toronto   \n",
       "59      M5J  Downtown Toronto   \n",
       "60      M5K  Downtown Toronto   \n",
       "61      M5L  Downtown Toronto   \n",
       "63      M5N   Central Toronto   \n",
       "64      M5P   Central Toronto   \n",
       "65      M5R   Central Toronto   \n",
       "66      M5S  Downtown Toronto   \n",
       "67      M5T  Downtown Toronto   \n",
       "68      M5V  Downtown Toronto   \n",
       "69      M5W  Downtown Toronto   \n",
       "70      M5X  Downtown Toronto   \n",
       "75      M6G  Downtown Toronto   \n",
       "76      M6H      West Toronto   \n",
       "77      M6J      West Toronto   \n",
       "78      M6K      West Toronto   \n",
       "82      M6P      West Toronto   \n",
       "83      M6R      West Toronto   \n",
       "84      M6S      West Toronto   \n",
       "87      M7Y      East Toronto   \n",
       "93      M9A  Downtown Toronto   \n",
       "\n",
       "                                        Neighbourhood   Latitude  Longitude  \n",
       "37                                        The Beaches  43.676357 -79.293031  \n",
       "41                        The Danforth West,Riverdale  43.679557 -79.352188  \n",
       "42                      The Beaches West,India Bazaar  43.668999 -79.315572  \n",
       "43                                    Studio District  43.659526 -79.340923  \n",
       "44                                      Lawrence Park  43.728020 -79.388790  \n",
       "45                                   Davisville North  43.712751 -79.390197  \n",
       "46                                 North Toronto West  43.715383 -79.405678  \n",
       "47                                         Davisville  43.704324 -79.388790  \n",
       "48                         Moore Park,Summerhill East  43.689574 -79.383160  \n",
       "49  Deer Park,Forest Hill SE,Rathnelly,South Hill,...  43.686412 -79.400049  \n",
       "50                                           Rosedale  43.679563 -79.377529  \n",
       "51                         Cabbagetown,St. James Town  43.667967 -79.367675  \n",
       "52                               Church and Wellesley  43.665860 -79.383160  \n",
       "53                                       Harbourfront  43.654260 -79.360636  \n",
       "54                            Ryerson,Garden District  43.657162 -79.378937  \n",
       "55                                     St. James Town  43.651494 -79.375418  \n",
       "56                                        Berczy Park  43.644771 -79.373306  \n",
       "57                                 Central Bay Street  43.657952 -79.387383  \n",
       "58                             Adelaide,King,Richmond  43.650571 -79.384568  \n",
       "59    Harbourfront East,Toronto Islands,Union Station  43.640816 -79.381752  \n",
       "60            Design Exchange,Toronto Dominion Centre  43.647177 -79.381576  \n",
       "61                      Commerce Court,Victoria Hotel  43.648198 -79.379817  \n",
       "63                                           Roselawn  43.711695 -79.416936  \n",
       "64                 Forest Hill North,Forest Hill West  43.696948 -79.411307  \n",
       "65                  The Annex,North Midtown,Yorkville  43.672710 -79.405678  \n",
       "66                      Harbord,University of Toronto  43.662696 -79.400049  \n",
       "67            Chinatown,Grange Park,Kensington Market  43.653206 -79.400049  \n",
       "68  CN Tower,Bathurst Quay,Island airport,Harbourf...  43.628947 -79.394420  \n",
       "69                    Stn A PO Boxes 25 The Esplanade  43.646435 -79.374846  \n",
       "70              First Canadian Place,Underground city  43.648429 -79.382280  \n",
       "75                                           Christie  43.669542 -79.422564  \n",
       "76                        Dovercourt Village,Dufferin  43.669005 -79.442259  \n",
       "77                            Little Portugal,Trinity  43.647927 -79.419750  \n",
       "78         Brockton,Exhibition Place,Parkdale Village  43.636847 -79.428191  \n",
       "82                       High Park,The Junction South  43.661608 -79.464763  \n",
       "83                              Parkdale,Roncesvalles  43.648960 -79.456325  \n",
       "84                                  Runnymede,Swansea  43.651571 -79.484450  \n",
       "87  Business Reply Mail Processing Centre 969 Eastern  43.662744 -79.321558  \n",
       "93                                       Queen's Park  43.667856 -79.532242  "
      ]
     },
     "execution_count": 64,
     "metadata": {},
     "output_type": "execute_result"
    }
   ],
   "source": [
    "df # 39 records"
   ]
  },
  {
   "cell_type": "code",
   "execution_count": 66,
   "metadata": {
    "ExecuteTime": {
     "end_time": "2020-03-05T12:33:12.449925Z",
     "start_time": "2020-03-05T12:33:12.445943Z"
    }
   },
   "outputs": [
    {
     "data": {
      "text/plain": [
       "array(['East Toronto', 'Central Toronto', 'Downtown Toronto',\n",
       "       'West Toronto'], dtype=object)"
      ]
     },
     "execution_count": 66,
     "metadata": {},
     "output_type": "execute_result"
    }
   ],
   "source": [
    "# Listing distinct borough\n",
    "df[COL_NAME_BOROUGH].unique()"
   ]
  },
  {
   "cell_type": "markdown",
   "metadata": {
    "ExecuteTime": {
     "end_time": "2020-03-05T12:33:46.475472Z",
     "start_time": "2020-03-05T12:33:46.470458Z"
    }
   },
   "source": [
    "print('The dataframe has {} distinct boroughs and {} neighborhoods.'.format(len(df[COL_NAME_BOROUGH].unique()),\n",
    "      df.shape[0]))"
   ]
  },
  {
   "cell_type": "markdown",
   "metadata": {},
   "source": [
    "# Use the geopy library to get the latitude and longitude values of Toronto"
   ]
  },
  {
   "cell_type": "code",
   "execution_count": 71,
   "metadata": {
    "ExecuteTime": {
     "end_time": "2020-03-05T12:36:58.558783Z",
     "start_time": "2020-03-05T12:36:57.734964Z"
    }
   },
   "outputs": [
    {
     "name": "stdout",
     "output_type": "stream",
     "text": [
      "The geograpical coordinate of Toronto are 43.653963, -79.387207.\n"
     ]
    }
   ],
   "source": [
    "from geopy.geocoders import Nominatim # convert an address into latitude and longitude values\n",
    "\n",
    "address = 'Toronto, CA'\n",
    "\n",
    "geolocator = Nominatim(user_agent=\"toronto_explorer\")\n",
    "location = geolocator.geocode(address)\n",
    "latitude = location.latitude\n",
    "longitude = location.longitude\n",
    "print('The geograpical coordinate of Toronto are {}, {}.'.format(latitude, longitude))"
   ]
  },
  {
   "cell_type": "markdown",
   "metadata": {},
   "source": [
    "**Creating a map of Toronto with neighborhoods**"
   ]
  },
  {
   "cell_type": "code",
   "execution_count": 77,
   "metadata": {
    "ExecuteTime": {
     "end_time": "2020-03-05T12:40:20.649675Z",
     "start_time": "2020-03-05T12:40:20.597801Z"
    }
   },
   "outputs": [
    {
     "data": {
      "text/html": [
       "<div style=\"width:100%;\"><div style=\"position:relative;width:100%;height:0;padding-bottom:60%;\"><iframe src=\"about:blank\" style=\"position:absolute;width:100%;height:100%;left:0;top:0;border:none !important;\" data-html=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 onload=\"this.contentDocument.open();this.contentDocument.write(atob(this.getAttribute('data-html')));this.contentDocument.close();\" allowfullscreen webkitallowfullscreen mozallowfullscreen></iframe></div></div>"
      ],
      "text/plain": [
       "<folium.folium.Map at 0x1c035e2d9e8>"
      ]
     },
     "execution_count": 77,
     "metadata": {},
     "output_type": "execute_result"
    }
   ],
   "source": [
    "import folium\n",
    "\n",
    "# create map of Toronto using latitude and longitude values\n",
    "plan = folium.Map(location=[latitude, longitude], zoom_start=10)\n",
    "\n",
    "# add markers to map\n",
    "for lat, lng, borough, neighborhood in zip(df[COL_NAME_LATITUDE], \n",
    "                                           df[COL_NAME_LONGITUDE], \n",
    "                                           df[COL_NAME_BOROUGH], \n",
    "                                           df[COL_NAME_NEIGHBOURHOOD]):\n",
    "    label = '{}, {}'.format(neighborhood, borough)\n",
    "    label = folium.Popup(label, parse_html=True)\n",
    "    folium.CircleMarker(\n",
    "        [lat, lng],\n",
    "        radius=5,\n",
    "        popup=label,\n",
    "        color='yellow',\n",
    "        fill=True,\n",
    "        fill_color='#3186cc',\n",
    "        fill_opacity=0.7,\n",
    "        parse_html=False).add_to(plan)  \n",
    "    \n",
    "plan"
   ]
  },
  {
   "cell_type": "markdown",
   "metadata": {},
   "source": [
    "**Creating a map of Central Toronto**"
   ]
  },
  {
   "cell_type": "code",
   "execution_count": 78,
   "metadata": {
    "ExecuteTime": {
     "end_time": "2020-03-05T12:40:57.545610Z",
     "start_time": "2020-03-05T12:40:57.528205Z"
    }
   },
   "outputs": [
    {
     "data": {
      "text/html": [
       "<div>\n",
       "<style scoped>\n",
       "    .dataframe tbody tr th:only-of-type {\n",
       "        vertical-align: middle;\n",
       "    }\n",
       "\n",
       "    .dataframe tbody tr th {\n",
       "        vertical-align: top;\n",
       "    }\n",
       "\n",
       "    .dataframe thead th {\n",
       "        text-align: right;\n",
       "    }\n",
       "</style>\n",
       "<table border=\"1\" class=\"dataframe\">\n",
       "  <thead>\n",
       "    <tr style=\"text-align: right;\">\n",
       "      <th></th>\n",
       "      <th>Postcode</th>\n",
       "      <th>Borough</th>\n",
       "      <th>Neighbourhood</th>\n",
       "      <th>Latitude</th>\n",
       "      <th>Longitude</th>\n",
       "    </tr>\n",
       "  </thead>\n",
       "  <tbody>\n",
       "    <tr>\n",
       "      <th>0</th>\n",
       "      <td>M4N</td>\n",
       "      <td>Central Toronto</td>\n",
       "      <td>Lawrence Park</td>\n",
       "      <td>43.728020</td>\n",
       "      <td>-79.388790</td>\n",
       "    </tr>\n",
       "    <tr>\n",
       "      <th>1</th>\n",
       "      <td>M4P</td>\n",
       "      <td>Central Toronto</td>\n",
       "      <td>Davisville North</td>\n",
       "      <td>43.712751</td>\n",
       "      <td>-79.390197</td>\n",
       "    </tr>\n",
       "    <tr>\n",
       "      <th>2</th>\n",
       "      <td>M4R</td>\n",
       "      <td>Central Toronto</td>\n",
       "      <td>North Toronto West</td>\n",
       "      <td>43.715383</td>\n",
       "      <td>-79.405678</td>\n",
       "    </tr>\n",
       "    <tr>\n",
       "      <th>3</th>\n",
       "      <td>M4S</td>\n",
       "      <td>Central Toronto</td>\n",
       "      <td>Davisville</td>\n",
       "      <td>43.704324</td>\n",
       "      <td>-79.388790</td>\n",
       "    </tr>\n",
       "    <tr>\n",
       "      <th>4</th>\n",
       "      <td>M4T</td>\n",
       "      <td>Central Toronto</td>\n",
       "      <td>Moore Park,Summerhill East</td>\n",
       "      <td>43.689574</td>\n",
       "      <td>-79.383160</td>\n",
       "    </tr>\n",
       "    <tr>\n",
       "      <th>5</th>\n",
       "      <td>M4V</td>\n",
       "      <td>Central Toronto</td>\n",
       "      <td>Deer Park,Forest Hill SE,Rathnelly,South Hill,...</td>\n",
       "      <td>43.686412</td>\n",
       "      <td>-79.400049</td>\n",
       "    </tr>\n",
       "    <tr>\n",
       "      <th>6</th>\n",
       "      <td>M5N</td>\n",
       "      <td>Central Toronto</td>\n",
       "      <td>Roselawn</td>\n",
       "      <td>43.711695</td>\n",
       "      <td>-79.416936</td>\n",
       "    </tr>\n",
       "    <tr>\n",
       "      <th>7</th>\n",
       "      <td>M5P</td>\n",
       "      <td>Central Toronto</td>\n",
       "      <td>Forest Hill North,Forest Hill West</td>\n",
       "      <td>43.696948</td>\n",
       "      <td>-79.411307</td>\n",
       "    </tr>\n",
       "    <tr>\n",
       "      <th>8</th>\n",
       "      <td>M5R</td>\n",
       "      <td>Central Toronto</td>\n",
       "      <td>The Annex,North Midtown,Yorkville</td>\n",
       "      <td>43.672710</td>\n",
       "      <td>-79.405678</td>\n",
       "    </tr>\n",
       "  </tbody>\n",
       "</table>\n",
       "</div>"
      ],
      "text/plain": [
       "  Postcode          Borough  \\\n",
       "0      M4N  Central Toronto   \n",
       "1      M4P  Central Toronto   \n",
       "2      M4R  Central Toronto   \n",
       "3      M4S  Central Toronto   \n",
       "4      M4T  Central Toronto   \n",
       "5      M4V  Central Toronto   \n",
       "6      M5N  Central Toronto   \n",
       "7      M5P  Central Toronto   \n",
       "8      M5R  Central Toronto   \n",
       "\n",
       "                                       Neighbourhood   Latitude  Longitude  \n",
       "0                                      Lawrence Park  43.728020 -79.388790  \n",
       "1                                   Davisville North  43.712751 -79.390197  \n",
       "2                                 North Toronto West  43.715383 -79.405678  \n",
       "3                                         Davisville  43.704324 -79.388790  \n",
       "4                         Moore Park,Summerhill East  43.689574 -79.383160  \n",
       "5  Deer Park,Forest Hill SE,Rathnelly,South Hill,...  43.686412 -79.400049  \n",
       "6                                           Roselawn  43.711695 -79.416936  \n",
       "7                 Forest Hill North,Forest Hill West  43.696948 -79.411307  \n",
       "8                  The Annex,North Midtown,Yorkville  43.672710 -79.405678  "
      ]
     },
     "execution_count": 78,
     "metadata": {},
     "output_type": "execute_result"
    }
   ],
   "source": [
    "CONST_BOROUGH = \"Central Toronto\"\n",
    "df_central_toronto = df[df[COL_NAME_BOROUGH]==CONST_BOROUGH].reset_index(drop=True)\n",
    "df_central_toronto"
   ]
  },
  {
   "cell_type": "code",
   "execution_count": 80,
   "metadata": {
    "ExecuteTime": {
     "end_time": "2020-03-05T12:41:45.733551Z",
     "start_time": "2020-03-05T12:41:45.710612Z"
    }
   },
   "outputs": [
    {
     "data": {
      "text/html": [
       "<div style=\"width:100%;\"><div style=\"position:relative;width:100%;height:0;padding-bottom:60%;\"><iframe src=\"about:blank\" style=\"position:absolute;width:100%;height:100%;left:0;top:0;border:none !important;\" data-html=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 onload=\"this.contentDocument.open();this.contentDocument.write(atob(this.getAttribute('data-html')));this.contentDocument.close();\" allowfullscreen webkitallowfullscreen mozallowfullscreen></iframe></div></div>"
      ],
      "text/plain": [
       "<folium.folium.Map at 0x1c035eeb2e8>"
      ]
     },
     "execution_count": 80,
     "metadata": {},
     "output_type": "execute_result"
    }
   ],
   "source": [
    "# create map of Toronto using latitude and longitude values\n",
    "plan = folium.Map(location=[latitude, longitude], zoom_start=10)\n",
    "\n",
    "# add markers to map\n",
    "for lat, lng, borough, neighborhood in zip(df_central_toronto[COL_NAME_LATITUDE], \n",
    "                                           df_central_toronto[COL_NAME_LONGITUDE], \n",
    "                                           df_central_toronto[COL_NAME_BOROUGH], \n",
    "                                           df_central_toronto[COL_NAME_NEIGHBOURHOOD]):\n",
    "    label = '{}, {}'.format(neighborhood, borough)\n",
    "    label = folium.Popup(label, parse_html=True)\n",
    "    folium.CircleMarker(\n",
    "        [lat, lng],\n",
    "        radius=5,\n",
    "        popup=label,\n",
    "        color='red',\n",
    "        fill=True,\n",
    "        fill_color='#3186cc',\n",
    "        fill_opacity=0.7,\n",
    "        parse_html=False).add_to(plan)  \n",
    "    \n",
    "plan"
   ]
  },
  {
   "cell_type": "markdown",
   "metadata": {},
   "source": [
    "# Define the Foursquare Credentials and Versio"
   ]
  },
  {
   "cell_type": "code",
   "execution_count": 117,
   "metadata": {
    "ExecuteTime": {
     "end_time": "2020-03-05T13:31:06.098885Z",
     "start_time": "2020-03-05T13:31:06.094886Z"
    }
   },
   "outputs": [
    {
     "name": "stdout",
     "output_type": "stream",
     "text": [
      "Your credentails:\n",
      "CLIENT_ID: X\n",
      "CLIENT_SECRET:X\n"
     ]
    }
   ],
   "source": [
    "CLIENT_ID = 'X'     # Foursquare ID\n",
    "CLIENT_SECRET = 'X' # Foursquare Secret\n",
    "VERSION = '20180604'\n",
    "LIMIT = 30\n",
    "print('Your credentails:')\n",
    "print('CLIENT_ID: ' + CLIENT_ID)\n",
    "print('CLIENT_SECRET:' + CLIENT_SECRET)"
   ]
  },
  {
   "cell_type": "code",
   "execution_count": 82,
   "metadata": {
    "ExecuteTime": {
     "end_time": "2020-03-05T12:44:03.810354Z",
     "start_time": "2020-03-05T12:44:03.805395Z"
    }
   },
   "outputs": [
    {
     "data": {
      "text/plain": [
       "'Lawrence Park'"
      ]
     },
     "execution_count": 82,
     "metadata": {},
     "output_type": "execute_result"
    }
   ],
   "source": [
    "df_central_toronto.loc[0, COL_NAME_NEIGHBOURHOOD]"
   ]
  },
  {
   "cell_type": "code",
   "execution_count": 83,
   "metadata": {
    "ExecuteTime": {
     "end_time": "2020-03-05T12:44:22.121470Z",
     "start_time": "2020-03-05T12:44:22.117462Z"
    }
   },
   "outputs": [
    {
     "name": "stdout",
     "output_type": "stream",
     "text": [
      "Latitude and longitude values of Lawrence Park are 43.7280205, -79.3887901.\n"
     ]
    }
   ],
   "source": [
    "# Get the neighborhood's latitude and longitude values\n",
    "neighborhood_latitude = df_central_toronto.loc[0, COL_NAME_LATITUDE]   # neighborhood latitude value\n",
    "neighborhood_longitude = df_central_toronto.loc[0, COL_NAME_LONGITUDE] # neighborhood longitude value\n",
    "\n",
    "neighborhood_name = df_central_toronto.loc[0, COL_NAME_NEIGHBOURHOOD] # neighborhood name\n",
    "\n",
    "print('Latitude and longitude values of {} are {}, {}.'.format(neighborhood_name, \n",
    "                                                               neighborhood_latitude, \n",
    "                                                               neighborhood_longitude))"
   ]
  },
  {
   "cell_type": "markdown",
   "metadata": {},
   "source": [
    "Now, let's get the top 100 venues that are in Marble Hill within a radius of 500 meters."
   ]
  },
  {
   "cell_type": "code",
   "execution_count": 118,
   "metadata": {
    "ExecuteTime": {
     "end_time": "2020-03-05T13:33:10.403203Z",
     "start_time": "2020-03-05T13:33:10.398216Z"
    }
   },
   "outputs": [
    {
     "data": {
      "text/plain": [
       "'https://api.foursquare.com/v2/venues/explore?&client_id=X&client_secret=X&v=20180604&ll=43.7280205,-79.3887901&radius=500&limit=100'"
      ]
     },
     "execution_count": 118,
     "metadata": {},
     "output_type": "execute_result"
    }
   ],
   "source": [
    "# First, let's create the GET request URL. Name your URL url.\n",
    "\n",
    "LIMIT = 100 # limit of number of venues returned by Foursquare API\n",
    "radius = 500 # define radius\n",
    "\n",
    "# create URL\n",
    "url = 'https://api.foursquare.com/v2/venues/explore?&client_id={}&client_secret={}&v={}&ll={},{}&radius={}&limit={}'.format(\n",
    "    CLIENT_ID, \n",
    "    CLIENT_SECRET, \n",
    "    VERSION, \n",
    "    neighborhood_latitude, \n",
    "    neighborhood_longitude, \n",
    "    radius, \n",
    "    LIMIT)\n",
    "\n",
    "url # display URL"
   ]
  },
  {
   "cell_type": "code",
   "execution_count": 89,
   "metadata": {
    "ExecuteTime": {
     "end_time": "2020-03-05T12:48:05.848687Z",
     "start_time": "2020-03-05T12:48:05.573432Z"
    },
    "scrolled": true
   },
   "outputs": [
    {
     "data": {
      "text/plain": [
       "{'meta': {'code': 200, 'requestId': '5e60f405bae9a2001c830699'},\n",
       " 'response': {'warning': {'text': \"There aren't a lot of results near you. Try something more general, reset your filters, or expand the search area.\"},\n",
       "  'headerLocation': 'Toronto',\n",
       "  'headerFullLocation': 'Toronto',\n",
       "  'headerLocationGranularity': 'city',\n",
       "  'totalResults': 3,\n",
       "  'suggestedBounds': {'ne': {'lat': 43.7325205045, 'lng': -79.3825744605273},\n",
       "   'sw': {'lat': 43.7235204955, 'lng': -79.3950057394727}},\n",
       "  'groups': [{'type': 'Recommended Places',\n",
       "    'name': 'recommended',\n",
       "    'items': [{'reasons': {'count': 0,\n",
       "       'items': [{'summary': 'This spot is popular',\n",
       "         'type': 'general',\n",
       "         'reasonName': 'globalInteractionReason'}]},\n",
       "      'venue': {'id': '50e6da19e4b0d8a78a0e9794',\n",
       "       'name': 'Lawrence Park Ravine',\n",
       "       'location': {'address': '3055 Yonge Street',\n",
       "        'crossStreet': 'Lawrence Avenue East',\n",
       "        'lat': 43.72696303913755,\n",
       "        'lng': -79.39438246708775,\n",
       "        'labeledLatLngs': [{'label': 'display',\n",
       "          'lat': 43.72696303913755,\n",
       "          'lng': -79.39438246708775}],\n",
       "        'distance': 465,\n",
       "        'cc': 'CA',\n",
       "        'city': 'Toronto',\n",
       "        'state': 'ON',\n",
       "        'country': 'Canada',\n",
       "        'formattedAddress': ['3055 Yonge Street (Lawrence Avenue East)',\n",
       "         'Toronto ON',\n",
       "         'Canada']},\n",
       "       'categories': [{'id': '4bf58dd8d48988d163941735',\n",
       "         'name': 'Park',\n",
       "         'pluralName': 'Parks',\n",
       "         'shortName': 'Park',\n",
       "         'icon': {'prefix': 'https://ss3.4sqi.net/img/categories_v2/parks_outdoors/park_',\n",
       "          'suffix': '.png'},\n",
       "         'primary': True}],\n",
       "       'photos': {'count': 0, 'groups': []}},\n",
       "      'referralId': 'e-0-50e6da19e4b0d8a78a0e9794-0'},\n",
       "     {'reasons': {'count': 0,\n",
       "       'items': [{'summary': 'This spot is popular',\n",
       "         'type': 'general',\n",
       "         'reasonName': 'globalInteractionReason'}]},\n",
       "      'venue': {'id': '5082ef77e4b0a7491cf7b022',\n",
       "       'name': 'Zodiac Swim School',\n",
       "       'location': {'lat': 43.72853205765438,\n",
       "        'lng': -79.3828602612317,\n",
       "        'labeledLatLngs': [{'label': 'display',\n",
       "          'lat': 43.72853205765438,\n",
       "          'lng': -79.3828602612317}],\n",
       "        'distance': 480,\n",
       "        'cc': 'CA',\n",
       "        'country': 'Canada',\n",
       "        'formattedAddress': ['Canada']},\n",
       "       'categories': [{'id': '52e81612bcbc57f1066b7a44',\n",
       "         'name': 'Swim School',\n",
       "         'pluralName': 'Swim Schools',\n",
       "         'shortName': 'Swim School',\n",
       "         'icon': {'prefix': 'https://ss3.4sqi.net/img/categories_v2/parks_outdoors/pool_',\n",
       "          'suffix': '.png'},\n",
       "         'primary': True}],\n",
       "       'photos': {'count': 0, 'groups': []}},\n",
       "      'referralId': 'e-0-5082ef77e4b0a7491cf7b022-1'},\n",
       "     {'reasons': {'count': 0,\n",
       "       'items': [{'summary': 'This spot is popular',\n",
       "         'type': 'general',\n",
       "         'reasonName': 'globalInteractionReason'}]},\n",
       "      'venue': {'id': '50ed9da8e4b081eabee12672',\n",
       "       'name': 'TTC Bus #162 - Lawrence-Donway',\n",
       "       'location': {'lat': 43.72802605799448,\n",
       "        'lng': -79.38280527753858,\n",
       "        'labeledLatLngs': [{'label': 'display',\n",
       "          'lat': 43.72802605799448,\n",
       "          'lng': -79.38280527753858}],\n",
       "        'distance': 481,\n",
       "        'cc': 'CA',\n",
       "        'city': 'Toronto',\n",
       "        'state': 'ON',\n",
       "        'country': 'Canada',\n",
       "        'formattedAddress': ['Toronto ON', 'Canada']},\n",
       "       'categories': [{'id': '4bf58dd8d48988d12b951735',\n",
       "         'name': 'Bus Line',\n",
       "         'pluralName': 'Bus Lines',\n",
       "         'shortName': 'Bus',\n",
       "         'icon': {'prefix': 'https://ss3.4sqi.net/img/categories_v2/travel/busstation_',\n",
       "          'suffix': '.png'},\n",
       "         'primary': True}],\n",
       "       'photos': {'count': 0, 'groups': []}},\n",
       "      'referralId': 'e-0-50ed9da8e4b081eabee12672-2'}]}]}}"
      ]
     },
     "execution_count": 89,
     "metadata": {},
     "output_type": "execute_result"
    }
   ],
   "source": [
    "# Send the GET request and examine the resutls\n",
    "import requests # library to handle requests\n",
    "\n",
    "results = requests.get(url).json()\n",
    "results"
   ]
  },
  {
   "cell_type": "code",
   "execution_count": 90,
   "metadata": {
    "ExecuteTime": {
     "end_time": "2020-03-05T12:49:10.961742Z",
     "start_time": "2020-03-05T12:49:10.957731Z"
    }
   },
   "outputs": [],
   "source": [
    "# function that extracts the category of the venue\n",
    "def get_category_type(row):\n",
    "    try:\n",
    "        categories_list = row['categories']\n",
    "    except:\n",
    "        categories_list = row['venue.categories']\n",
    "        \n",
    "    if len(categories_list) == 0:\n",
    "        return None\n",
    "    else:\n",
    "        return categories_list[0]['name']"
   ]
  },
  {
   "cell_type": "code",
   "execution_count": 91,
   "metadata": {
    "ExecuteTime": {
     "end_time": "2020-03-05T12:49:35.806699Z",
     "start_time": "2020-03-05T12:49:35.789738Z"
    }
   },
   "outputs": [
    {
     "data": {
      "text/html": [
       "<div>\n",
       "<style scoped>\n",
       "    .dataframe tbody tr th:only-of-type {\n",
       "        vertical-align: middle;\n",
       "    }\n",
       "\n",
       "    .dataframe tbody tr th {\n",
       "        vertical-align: top;\n",
       "    }\n",
       "\n",
       "    .dataframe thead th {\n",
       "        text-align: right;\n",
       "    }\n",
       "</style>\n",
       "<table border=\"1\" class=\"dataframe\">\n",
       "  <thead>\n",
       "    <tr style=\"text-align: right;\">\n",
       "      <th></th>\n",
       "      <th>name</th>\n",
       "      <th>categories</th>\n",
       "      <th>lat</th>\n",
       "      <th>lng</th>\n",
       "    </tr>\n",
       "  </thead>\n",
       "  <tbody>\n",
       "    <tr>\n",
       "      <th>0</th>\n",
       "      <td>Lawrence Park Ravine</td>\n",
       "      <td>Park</td>\n",
       "      <td>43.726963</td>\n",
       "      <td>-79.394382</td>\n",
       "    </tr>\n",
       "    <tr>\n",
       "      <th>1</th>\n",
       "      <td>Zodiac Swim School</td>\n",
       "      <td>Swim School</td>\n",
       "      <td>43.728532</td>\n",
       "      <td>-79.382860</td>\n",
       "    </tr>\n",
       "    <tr>\n",
       "      <th>2</th>\n",
       "      <td>TTC Bus #162 - Lawrence-Donway</td>\n",
       "      <td>Bus Line</td>\n",
       "      <td>43.728026</td>\n",
       "      <td>-79.382805</td>\n",
       "    </tr>\n",
       "  </tbody>\n",
       "</table>\n",
       "</div>"
      ],
      "text/plain": [
       "                             name   categories        lat        lng\n",
       "0            Lawrence Park Ravine         Park  43.726963 -79.394382\n",
       "1              Zodiac Swim School  Swim School  43.728532 -79.382860\n",
       "2  TTC Bus #162 - Lawrence-Donway     Bus Line  43.728026 -79.382805"
      ]
     },
     "execution_count": 91,
     "metadata": {},
     "output_type": "execute_result"
    }
   ],
   "source": [
    "# Save to dataframe\n",
    "from pandas.io.json import json_normalize # tranform JSON file into a pandas dataframe\n",
    "\n",
    "venues = results['response']['groups'][0]['items']\n",
    "    \n",
    "nearby_venues = json_normalize(venues) # flatten JSON\n",
    "\n",
    "# filter columns\n",
    "filtered_columns = ['venue.name', 'venue.categories', 'venue.location.lat', 'venue.location.lng']\n",
    "nearby_venues =nearby_venues.loc[:, filtered_columns]\n",
    "\n",
    "# filter the category for each row\n",
    "nearby_venues['venue.categories'] = nearby_venues.apply(get_category_type, axis=1)\n",
    "\n",
    "# clean columns\n",
    "nearby_venues.columns = [col.split(\".\")[-1] for col in nearby_venues.columns]\n",
    "\n",
    "nearby_venues.head()"
   ]
  },
  {
   "cell_type": "code",
   "execution_count": 92,
   "metadata": {
    "ExecuteTime": {
     "end_time": "2020-03-05T12:49:51.185460Z",
     "start_time": "2020-03-05T12:49:51.182463Z"
    }
   },
   "outputs": [
    {
     "name": "stdout",
     "output_type": "stream",
     "text": [
      "3 venues were returned by Foursquare.\n"
     ]
    }
   ],
   "source": [
    "print('{} venues were returned by Foursquare.'.format(nearby_venues.shape[0]))"
   ]
  },
  {
   "cell_type": "markdown",
   "metadata": {},
   "source": [
    "# Explore all neighborhoods of Central Toronto"
   ]
  },
  {
   "cell_type": "code",
   "execution_count": 93,
   "metadata": {
    "ExecuteTime": {
     "end_time": "2020-03-05T12:51:44.274393Z",
     "start_time": "2020-03-05T12:51:44.267407Z"
    }
   },
   "outputs": [],
   "source": [
    "# Create a function to repeat the same process to all the neighborhoods\n",
    "COL_NAME_VENUE = \"Venue\"\n",
    "COL_NAME_CATEGORY = \"Category\"\n",
    "\n",
    "COL_NAME_NEIGHBOURHOOD_LATITUDE = COL_NAME_NEIGHBOURHOOD + \" \" + COL_NAME_LATITUDE\n",
    "COL_NAME_NEIGHBOURHOOD_LONGITUDE = COL_NAME_NEIGHBOURHOOD + \" \" + COL_NAME_LONGITUDE\n",
    "COL_NAME_VENUE_LATITUDE = COL_NAME_VENUE + \" \" + COL_NAME_LATITUDE\n",
    "COL_NAME_VENUE_LONGITUDE = COL_NAME_VENUE + \" \" + COL_NAME_LONGITUDE\n",
    "COL_NAME_VENUE_CATEGORY = COL_NAME_VENUE + \" \" + COL_NAME_CATEGORY\n",
    "\n",
    "\n",
    "def get_near_by_venues(names, latitudes, longitudes, radius=500):    \n",
    "    venues_list=[]\n",
    "    for name, lat, lng in zip(names, latitudes, longitudes):\n",
    "        print(name)\n",
    "            \n",
    "        # create the API request URL\n",
    "        url = 'https://api.foursquare.com/v2/venues/explore?&client_id={}&client_secret={}&v={}&ll={},{}&radius={}&limit={}'.format(\n",
    "            CLIENT_ID, \n",
    "            CLIENT_SECRET, \n",
    "            VERSION, \n",
    "            lat, \n",
    "            lng, \n",
    "            radius, \n",
    "            LIMIT)\n",
    "            \n",
    "        # make the GET request\n",
    "        results = requests.get(url).json()[\"response\"]['groups'][0]['items']\n",
    "        \n",
    "        # return only relevant information for each nearby venue\n",
    "        venues_list.append([(\n",
    "            name, \n",
    "            lat, \n",
    "            lng, \n",
    "            v['venue']['name'], \n",
    "            v['venue']['location']['lat'], \n",
    "            v['venue']['location']['lng'],  \n",
    "            v['venue']['categories'][0]['name']) for v in results])\n",
    "\n",
    "    nearby_venues = pd.DataFrame([item for venue_list in venues_list for item in venue_list])\n",
    "    nearby_venues.columns = [COL_NAME_NEIGHBOURHOOD, \n",
    "                             COL_NAME_NEIGHBOURHOOD_LATITUDE,\n",
    "                             COL_NAME_NEIGHBOURHOOD_LONGITUDE,\n",
    "                             COL_NAME_VENUE,\n",
    "                             COL_NAME_VENUE_LATITUDE,\n",
    "                             COL_NAME_VENUE_LONGITUDE,\n",
    "                             COL_NAME_VENUE_CATEGORY]\n",
    "    return(nearby_venues)"
   ]
  },
  {
   "cell_type": "code",
   "execution_count": 94,
   "metadata": {
    "ExecuteTime": {
     "end_time": "2020-03-05T12:51:55.458798Z",
     "start_time": "2020-03-05T12:51:53.526053Z"
    }
   },
   "outputs": [
    {
     "name": "stdout",
     "output_type": "stream",
     "text": [
      "Lawrence Park\n",
      "Davisville North\n",
      "North Toronto West\n",
      "Davisville\n",
      "Moore Park,Summerhill East\n",
      "Deer Park,Forest Hill SE,Rathnelly,South Hill,Summerhill West\n",
      "Roselawn\n",
      "Forest Hill North,Forest Hill West\n",
      "The Annex,North Midtown,Yorkville\n"
     ]
    }
   ],
   "source": [
    "# dataframe that contains all the neighborhoods of Central Toronto\n",
    "venues_central_toronto = get_near_by_venues(\n",
    "    names=df_central_toronto[COL_NAME_NEIGHBOURHOOD],\n",
    "    latitudes=df_central_toronto[COL_NAME_LATITUDE],                           \n",
    "    longitudes=df_central_toronto[COL_NAME_LONGITUDE])"
   ]
  },
  {
   "cell_type": "code",
   "execution_count": 95,
   "metadata": {
    "ExecuteTime": {
     "end_time": "2020-03-05T12:52:24.407178Z",
     "start_time": "2020-03-05T12:52:24.398208Z"
    }
   },
   "outputs": [
    {
     "name": "stdout",
     "output_type": "stream",
     "text": [
      "(row, column) = (106, 7)\n"
     ]
    },
    {
     "data": {
      "text/html": [
       "<div>\n",
       "<style scoped>\n",
       "    .dataframe tbody tr th:only-of-type {\n",
       "        vertical-align: middle;\n",
       "    }\n",
       "\n",
       "    .dataframe tbody tr th {\n",
       "        vertical-align: top;\n",
       "    }\n",
       "\n",
       "    .dataframe thead th {\n",
       "        text-align: right;\n",
       "    }\n",
       "</style>\n",
       "<table border=\"1\" class=\"dataframe\">\n",
       "  <thead>\n",
       "    <tr style=\"text-align: right;\">\n",
       "      <th></th>\n",
       "      <th>Neighbourhood</th>\n",
       "      <th>Neighbourhood Latitude</th>\n",
       "      <th>Neighbourhood Longitude</th>\n",
       "      <th>Venue</th>\n",
       "      <th>Venue Latitude</th>\n",
       "      <th>Venue Longitude</th>\n",
       "      <th>Venue Category</th>\n",
       "    </tr>\n",
       "  </thead>\n",
       "  <tbody>\n",
       "    <tr>\n",
       "      <th>0</th>\n",
       "      <td>Lawrence Park</td>\n",
       "      <td>43.728020</td>\n",
       "      <td>-79.388790</td>\n",
       "      <td>Lawrence Park Ravine</td>\n",
       "      <td>43.726963</td>\n",
       "      <td>-79.394382</td>\n",
       "      <td>Park</td>\n",
       "    </tr>\n",
       "    <tr>\n",
       "      <th>1</th>\n",
       "      <td>Lawrence Park</td>\n",
       "      <td>43.728020</td>\n",
       "      <td>-79.388790</td>\n",
       "      <td>Zodiac Swim School</td>\n",
       "      <td>43.728532</td>\n",
       "      <td>-79.382860</td>\n",
       "      <td>Swim School</td>\n",
       "    </tr>\n",
       "    <tr>\n",
       "      <th>2</th>\n",
       "      <td>Lawrence Park</td>\n",
       "      <td>43.728020</td>\n",
       "      <td>-79.388790</td>\n",
       "      <td>TTC Bus #162 - Lawrence-Donway</td>\n",
       "      <td>43.728026</td>\n",
       "      <td>-79.382805</td>\n",
       "      <td>Bus Line</td>\n",
       "    </tr>\n",
       "    <tr>\n",
       "      <th>3</th>\n",
       "      <td>Davisville North</td>\n",
       "      <td>43.712751</td>\n",
       "      <td>-79.390197</td>\n",
       "      <td>Summerhill Market North</td>\n",
       "      <td>43.715499</td>\n",
       "      <td>-79.392881</td>\n",
       "      <td>Food &amp; Drink Shop</td>\n",
       "    </tr>\n",
       "    <tr>\n",
       "      <th>4</th>\n",
       "      <td>Davisville North</td>\n",
       "      <td>43.712751</td>\n",
       "      <td>-79.390197</td>\n",
       "      <td>Sherwood Park</td>\n",
       "      <td>43.716551</td>\n",
       "      <td>-79.387776</td>\n",
       "      <td>Park</td>\n",
       "    </tr>\n",
       "  </tbody>\n",
       "</table>\n",
       "</div>"
      ],
      "text/plain": [
       "      Neighbourhood  Neighbourhood Latitude  Neighbourhood Longitude  \\\n",
       "0     Lawrence Park               43.728020               -79.388790   \n",
       "1     Lawrence Park               43.728020               -79.388790   \n",
       "2     Lawrence Park               43.728020               -79.388790   \n",
       "3  Davisville North               43.712751               -79.390197   \n",
       "4  Davisville North               43.712751               -79.390197   \n",
       "\n",
       "                            Venue  Venue Latitude  Venue Longitude  \\\n",
       "0            Lawrence Park Ravine       43.726963       -79.394382   \n",
       "1              Zodiac Swim School       43.728532       -79.382860   \n",
       "2  TTC Bus #162 - Lawrence-Donway       43.728026       -79.382805   \n",
       "3         Summerhill Market North       43.715499       -79.392881   \n",
       "4                   Sherwood Park       43.716551       -79.387776   \n",
       "\n",
       "      Venue Category  \n",
       "0               Park  \n",
       "1        Swim School  \n",
       "2           Bus Line  \n",
       "3  Food & Drink Shop  \n",
       "4               Park  "
      ]
     },
     "execution_count": 95,
     "metadata": {},
     "output_type": "execute_result"
    }
   ],
   "source": [
    "# Get the shape of the dataframe\n",
    "print(\"(row, column) = %s\" % str(venues_central_toronto.shape))\n",
    "venues_central_toronto.head()"
   ]
  },
  {
   "cell_type": "code",
   "execution_count": 96,
   "metadata": {
    "ExecuteTime": {
     "end_time": "2020-03-05T12:53:17.503126Z",
     "start_time": "2020-03-05T12:53:17.493152Z"
    }
   },
   "outputs": [
    {
     "data": {
      "text/html": [
       "<div>\n",
       "<style scoped>\n",
       "    .dataframe tbody tr th:only-of-type {\n",
       "        vertical-align: middle;\n",
       "    }\n",
       "\n",
       "    .dataframe tbody tr th {\n",
       "        vertical-align: top;\n",
       "    }\n",
       "\n",
       "    .dataframe thead th {\n",
       "        text-align: right;\n",
       "    }\n",
       "</style>\n",
       "<table border=\"1\" class=\"dataframe\">\n",
       "  <thead>\n",
       "    <tr style=\"text-align: right;\">\n",
       "      <th></th>\n",
       "      <th>Neighbourhood Latitude</th>\n",
       "      <th>Neighbourhood Longitude</th>\n",
       "      <th>Venue</th>\n",
       "      <th>Venue Latitude</th>\n",
       "      <th>Venue Longitude</th>\n",
       "      <th>Venue Category</th>\n",
       "    </tr>\n",
       "    <tr>\n",
       "      <th>Neighbourhood</th>\n",
       "      <th></th>\n",
       "      <th></th>\n",
       "      <th></th>\n",
       "      <th></th>\n",
       "      <th></th>\n",
       "      <th></th>\n",
       "    </tr>\n",
       "  </thead>\n",
       "  <tbody>\n",
       "    <tr>\n",
       "      <th>Davisville</th>\n",
       "      <td>35</td>\n",
       "      <td>35</td>\n",
       "      <td>35</td>\n",
       "      <td>35</td>\n",
       "      <td>35</td>\n",
       "      <td>35</td>\n",
       "    </tr>\n",
       "    <tr>\n",
       "      <th>Davisville North</th>\n",
       "      <td>8</td>\n",
       "      <td>8</td>\n",
       "      <td>8</td>\n",
       "      <td>8</td>\n",
       "      <td>8</td>\n",
       "      <td>8</td>\n",
       "    </tr>\n",
       "    <tr>\n",
       "      <th>Deer Park,Forest Hill SE,Rathnelly,South Hill,Summerhill West</th>\n",
       "      <td>15</td>\n",
       "      <td>15</td>\n",
       "      <td>15</td>\n",
       "      <td>15</td>\n",
       "      <td>15</td>\n",
       "      <td>15</td>\n",
       "    </tr>\n",
       "    <tr>\n",
       "      <th>Forest Hill North,Forest Hill West</th>\n",
       "      <td>4</td>\n",
       "      <td>4</td>\n",
       "      <td>4</td>\n",
       "      <td>4</td>\n",
       "      <td>4</td>\n",
       "      <td>4</td>\n",
       "    </tr>\n",
       "    <tr>\n",
       "      <th>Lawrence Park</th>\n",
       "      <td>3</td>\n",
       "      <td>3</td>\n",
       "      <td>3</td>\n",
       "      <td>3</td>\n",
       "      <td>3</td>\n",
       "      <td>3</td>\n",
       "    </tr>\n",
       "    <tr>\n",
       "      <th>Moore Park,Summerhill East</th>\n",
       "      <td>1</td>\n",
       "      <td>1</td>\n",
       "      <td>1</td>\n",
       "      <td>1</td>\n",
       "      <td>1</td>\n",
       "      <td>1</td>\n",
       "    </tr>\n",
       "    <tr>\n",
       "      <th>North Toronto West</th>\n",
       "      <td>18</td>\n",
       "      <td>18</td>\n",
       "      <td>18</td>\n",
       "      <td>18</td>\n",
       "      <td>18</td>\n",
       "      <td>18</td>\n",
       "    </tr>\n",
       "    <tr>\n",
       "      <th>Roselawn</th>\n",
       "      <td>1</td>\n",
       "      <td>1</td>\n",
       "      <td>1</td>\n",
       "      <td>1</td>\n",
       "      <td>1</td>\n",
       "      <td>1</td>\n",
       "    </tr>\n",
       "    <tr>\n",
       "      <th>The Annex,North Midtown,Yorkville</th>\n",
       "      <td>21</td>\n",
       "      <td>21</td>\n",
       "      <td>21</td>\n",
       "      <td>21</td>\n",
       "      <td>21</td>\n",
       "      <td>21</td>\n",
       "    </tr>\n",
       "  </tbody>\n",
       "</table>\n",
       "</div>"
      ],
      "text/plain": [
       "                                                    Neighbourhood Latitude  \\\n",
       "Neighbourhood                                                                \n",
       "Davisville                                                              35   \n",
       "Davisville North                                                         8   \n",
       "Deer Park,Forest Hill SE,Rathnelly,South Hill,S...                      15   \n",
       "Forest Hill North,Forest Hill West                                       4   \n",
       "Lawrence Park                                                            3   \n",
       "Moore Park,Summerhill East                                               1   \n",
       "North Toronto West                                                      18   \n",
       "Roselawn                                                                 1   \n",
       "The Annex,North Midtown,Yorkville                                       21   \n",
       "\n",
       "                                                    Neighbourhood Longitude  \\\n",
       "Neighbourhood                                                                 \n",
       "Davisville                                                               35   \n",
       "Davisville North                                                          8   \n",
       "Deer Park,Forest Hill SE,Rathnelly,South Hill,S...                       15   \n",
       "Forest Hill North,Forest Hill West                                        4   \n",
       "Lawrence Park                                                             3   \n",
       "Moore Park,Summerhill East                                                1   \n",
       "North Toronto West                                                       18   \n",
       "Roselawn                                                                  1   \n",
       "The Annex,North Midtown,Yorkville                                        21   \n",
       "\n",
       "                                                    Venue  Venue Latitude  \\\n",
       "Neighbourhood                                                               \n",
       "Davisville                                             35              35   \n",
       "Davisville North                                        8               8   \n",
       "Deer Park,Forest Hill SE,Rathnelly,South Hill,S...     15              15   \n",
       "Forest Hill North,Forest Hill West                      4               4   \n",
       "Lawrence Park                                           3               3   \n",
       "Moore Park,Summerhill East                              1               1   \n",
       "North Toronto West                                     18              18   \n",
       "Roselawn                                                1               1   \n",
       "The Annex,North Midtown,Yorkville                      21              21   \n",
       "\n",
       "                                                    Venue Longitude  \\\n",
       "Neighbourhood                                                         \n",
       "Davisville                                                       35   \n",
       "Davisville North                                                  8   \n",
       "Deer Park,Forest Hill SE,Rathnelly,South Hill,S...               15   \n",
       "Forest Hill North,Forest Hill West                                4   \n",
       "Lawrence Park                                                     3   \n",
       "Moore Park,Summerhill East                                        1   \n",
       "North Toronto West                                               18   \n",
       "Roselawn                                                          1   \n",
       "The Annex,North Midtown,Yorkville                                21   \n",
       "\n",
       "                                                    Venue Category  \n",
       "Neighbourhood                                                       \n",
       "Davisville                                                      35  \n",
       "Davisville North                                                 8  \n",
       "Deer Park,Forest Hill SE,Rathnelly,South Hill,S...              15  \n",
       "Forest Hill North,Forest Hill West                               4  \n",
       "Lawrence Park                                                    3  \n",
       "Moore Park,Summerhill East                                       1  \n",
       "North Toronto West                                              18  \n",
       "Roselawn                                                         1  \n",
       "The Annex,North Midtown,Yorkville                               21  "
      ]
     },
     "execution_count": 96,
     "metadata": {},
     "output_type": "execute_result"
    }
   ],
   "source": [
    "# check how many venues were returned for each neighborhood\n",
    "venues_central_toronto.groupby(COL_NAME_NEIGHBOURHOOD).count()"
   ]
  },
  {
   "cell_type": "code",
   "execution_count": 98,
   "metadata": {
    "ExecuteTime": {
     "end_time": "2020-03-05T12:54:09.610365Z",
     "start_time": "2020-03-05T12:54:09.605356Z"
    }
   },
   "outputs": [
    {
     "name": "stdout",
     "output_type": "stream",
     "text": [
      "There are 58 distinct categories.\n"
     ]
    }
   ],
   "source": [
    "print('There are {} distinct categories.'.format(\n",
    "    len(venues_central_toronto[COL_NAME_VENUE_CATEGORY].unique())))"
   ]
  },
  {
   "cell_type": "markdown",
   "metadata": {},
   "source": [
    "# Analyze Each Neighborhood of Central Toronto"
   ]
  },
  {
   "cell_type": "code",
   "execution_count": 99,
   "metadata": {
    "ExecuteTime": {
     "end_time": "2020-03-05T12:55:05.648690Z",
     "start_time": "2020-03-05T12:55:05.627745Z"
    }
   },
   "outputs": [
    {
     "data": {
      "text/html": [
       "<div>\n",
       "<style scoped>\n",
       "    .dataframe tbody tr th:only-of-type {\n",
       "        vertical-align: middle;\n",
       "    }\n",
       "\n",
       "    .dataframe tbody tr th {\n",
       "        vertical-align: top;\n",
       "    }\n",
       "\n",
       "    .dataframe thead th {\n",
       "        text-align: right;\n",
       "    }\n",
       "</style>\n",
       "<table border=\"1\" class=\"dataframe\">\n",
       "  <thead>\n",
       "    <tr style=\"text-align: right;\">\n",
       "      <th></th>\n",
       "      <th>Neighbourhood</th>\n",
       "      <th>American Restaurant</th>\n",
       "      <th>BBQ Joint</th>\n",
       "      <th>Bagel Shop</th>\n",
       "      <th>Breakfast Spot</th>\n",
       "      <th>Brewery</th>\n",
       "      <th>Burger Joint</th>\n",
       "      <th>Bus Line</th>\n",
       "      <th>Café</th>\n",
       "      <th>Chinese Restaurant</th>\n",
       "      <th>...</th>\n",
       "      <th>Sports Bar</th>\n",
       "      <th>Supermarket</th>\n",
       "      <th>Sushi Restaurant</th>\n",
       "      <th>Swim School</th>\n",
       "      <th>Thai Restaurant</th>\n",
       "      <th>Toy / Game Store</th>\n",
       "      <th>Trail</th>\n",
       "      <th>Vegetarian / Vegan Restaurant</th>\n",
       "      <th>Vietnamese Restaurant</th>\n",
       "      <th>Yoga Studio</th>\n",
       "    </tr>\n",
       "  </thead>\n",
       "  <tbody>\n",
       "    <tr>\n",
       "      <th>0</th>\n",
       "      <td>Lawrence Park</td>\n",
       "      <td>0</td>\n",
       "      <td>0</td>\n",
       "      <td>0</td>\n",
       "      <td>0</td>\n",
       "      <td>0</td>\n",
       "      <td>0</td>\n",
       "      <td>0</td>\n",
       "      <td>0</td>\n",
       "      <td>0</td>\n",
       "      <td>...</td>\n",
       "      <td>0</td>\n",
       "      <td>0</td>\n",
       "      <td>0</td>\n",
       "      <td>0</td>\n",
       "      <td>0</td>\n",
       "      <td>0</td>\n",
       "      <td>0</td>\n",
       "      <td>0</td>\n",
       "      <td>0</td>\n",
       "      <td>0</td>\n",
       "    </tr>\n",
       "    <tr>\n",
       "      <th>1</th>\n",
       "      <td>Lawrence Park</td>\n",
       "      <td>0</td>\n",
       "      <td>0</td>\n",
       "      <td>0</td>\n",
       "      <td>0</td>\n",
       "      <td>0</td>\n",
       "      <td>0</td>\n",
       "      <td>0</td>\n",
       "      <td>0</td>\n",
       "      <td>0</td>\n",
       "      <td>...</td>\n",
       "      <td>0</td>\n",
       "      <td>0</td>\n",
       "      <td>0</td>\n",
       "      <td>1</td>\n",
       "      <td>0</td>\n",
       "      <td>0</td>\n",
       "      <td>0</td>\n",
       "      <td>0</td>\n",
       "      <td>0</td>\n",
       "      <td>0</td>\n",
       "    </tr>\n",
       "    <tr>\n",
       "      <th>2</th>\n",
       "      <td>Lawrence Park</td>\n",
       "      <td>0</td>\n",
       "      <td>0</td>\n",
       "      <td>0</td>\n",
       "      <td>0</td>\n",
       "      <td>0</td>\n",
       "      <td>0</td>\n",
       "      <td>1</td>\n",
       "      <td>0</td>\n",
       "      <td>0</td>\n",
       "      <td>...</td>\n",
       "      <td>0</td>\n",
       "      <td>0</td>\n",
       "      <td>0</td>\n",
       "      <td>0</td>\n",
       "      <td>0</td>\n",
       "      <td>0</td>\n",
       "      <td>0</td>\n",
       "      <td>0</td>\n",
       "      <td>0</td>\n",
       "      <td>0</td>\n",
       "    </tr>\n",
       "    <tr>\n",
       "      <th>3</th>\n",
       "      <td>Davisville North</td>\n",
       "      <td>0</td>\n",
       "      <td>0</td>\n",
       "      <td>0</td>\n",
       "      <td>0</td>\n",
       "      <td>0</td>\n",
       "      <td>0</td>\n",
       "      <td>0</td>\n",
       "      <td>0</td>\n",
       "      <td>0</td>\n",
       "      <td>...</td>\n",
       "      <td>0</td>\n",
       "      <td>0</td>\n",
       "      <td>0</td>\n",
       "      <td>0</td>\n",
       "      <td>0</td>\n",
       "      <td>0</td>\n",
       "      <td>0</td>\n",
       "      <td>0</td>\n",
       "      <td>0</td>\n",
       "      <td>0</td>\n",
       "    </tr>\n",
       "    <tr>\n",
       "      <th>4</th>\n",
       "      <td>Davisville North</td>\n",
       "      <td>0</td>\n",
       "      <td>0</td>\n",
       "      <td>0</td>\n",
       "      <td>0</td>\n",
       "      <td>0</td>\n",
       "      <td>0</td>\n",
       "      <td>0</td>\n",
       "      <td>0</td>\n",
       "      <td>0</td>\n",
       "      <td>...</td>\n",
       "      <td>0</td>\n",
       "      <td>0</td>\n",
       "      <td>0</td>\n",
       "      <td>0</td>\n",
       "      <td>0</td>\n",
       "      <td>0</td>\n",
       "      <td>0</td>\n",
       "      <td>0</td>\n",
       "      <td>0</td>\n",
       "      <td>0</td>\n",
       "    </tr>\n",
       "  </tbody>\n",
       "</table>\n",
       "<p>5 rows × 59 columns</p>\n",
       "</div>"
      ],
      "text/plain": [
       "      Neighbourhood  American Restaurant  BBQ Joint  Bagel Shop  \\\n",
       "0     Lawrence Park                    0          0           0   \n",
       "1     Lawrence Park                    0          0           0   \n",
       "2     Lawrence Park                    0          0           0   \n",
       "3  Davisville North                    0          0           0   \n",
       "4  Davisville North                    0          0           0   \n",
       "\n",
       "   Breakfast Spot  Brewery  Burger Joint  Bus Line  Café  Chinese Restaurant  \\\n",
       "0               0        0             0         0     0                   0   \n",
       "1               0        0             0         0     0                   0   \n",
       "2               0        0             0         1     0                   0   \n",
       "3               0        0             0         0     0                   0   \n",
       "4               0        0             0         0     0                   0   \n",
       "\n",
       "   ...  Sports Bar  Supermarket  Sushi Restaurant  Swim School  \\\n",
       "0  ...           0            0                 0            0   \n",
       "1  ...           0            0                 0            1   \n",
       "2  ...           0            0                 0            0   \n",
       "3  ...           0            0                 0            0   \n",
       "4  ...           0            0                 0            0   \n",
       "\n",
       "   Thai Restaurant  Toy / Game Store  Trail  Vegetarian / Vegan Restaurant  \\\n",
       "0                0                 0      0                              0   \n",
       "1                0                 0      0                              0   \n",
       "2                0                 0      0                              0   \n",
       "3                0                 0      0                              0   \n",
       "4                0                 0      0                              0   \n",
       "\n",
       "   Vietnamese Restaurant  Yoga Studio  \n",
       "0                      0            0  \n",
       "1                      0            0  \n",
       "2                      0            0  \n",
       "3                      0            0  \n",
       "4                      0            0  \n",
       "\n",
       "[5 rows x 59 columns]"
      ]
     },
     "execution_count": 99,
     "metadata": {},
     "output_type": "execute_result"
    }
   ],
   "source": [
    "# one hot encoding\n",
    "central_toronto_onehot = pd.get_dummies(venues_central_toronto[[COL_NAME_VENUE_CATEGORY]], \n",
    "                                        prefix=\"\", \n",
    "                                        prefix_sep=\"\")\n",
    "\n",
    "# add neighborhood column back to dataframe\n",
    "central_toronto_onehot[COL_NAME_NEIGHBOURHOOD] = venues_central_toronto[COL_NAME_NEIGHBOURHOOD] \n",
    "\n",
    "# move neighborhood column to the first column\n",
    "fixed_columns = [central_toronto_onehot.columns[-1]] + list(central_toronto_onehot.columns[:-1])\n",
    "central_toronto_onehot = central_toronto_onehot[fixed_columns]\n",
    "\n",
    "central_toronto_onehot.head()"
   ]
  },
  {
   "cell_type": "code",
   "execution_count": 100,
   "metadata": {
    "ExecuteTime": {
     "end_time": "2020-03-05T12:55:22.334908Z",
     "start_time": "2020-03-05T12:55:22.319260Z"
    }
   },
   "outputs": [
    {
     "data": {
      "text/plain": [
       "(106, 59)"
      ]
     },
     "execution_count": 100,
     "metadata": {},
     "output_type": "execute_result"
    }
   ],
   "source": [
    "# Get the shape of the dataframe\n",
    "central_toronto_onehot.shape"
   ]
  },
  {
   "cell_type": "code",
   "execution_count": 102,
   "metadata": {
    "ExecuteTime": {
     "end_time": "2020-03-05T12:55:43.963930Z",
     "start_time": "2020-03-05T12:55:43.935592Z"
    }
   },
   "outputs": [
    {
     "data": {
      "text/html": [
       "<div>\n",
       "<style scoped>\n",
       "    .dataframe tbody tr th:only-of-type {\n",
       "        vertical-align: middle;\n",
       "    }\n",
       "\n",
       "    .dataframe tbody tr th {\n",
       "        vertical-align: top;\n",
       "    }\n",
       "\n",
       "    .dataframe thead th {\n",
       "        text-align: right;\n",
       "    }\n",
       "</style>\n",
       "<table border=\"1\" class=\"dataframe\">\n",
       "  <thead>\n",
       "    <tr style=\"text-align: right;\">\n",
       "      <th></th>\n",
       "      <th>Neighbourhood</th>\n",
       "      <th>American Restaurant</th>\n",
       "      <th>BBQ Joint</th>\n",
       "      <th>Bagel Shop</th>\n",
       "      <th>Breakfast Spot</th>\n",
       "      <th>Brewery</th>\n",
       "      <th>Burger Joint</th>\n",
       "      <th>Bus Line</th>\n",
       "      <th>Café</th>\n",
       "      <th>Chinese Restaurant</th>\n",
       "      <th>...</th>\n",
       "      <th>Sports Bar</th>\n",
       "      <th>Supermarket</th>\n",
       "      <th>Sushi Restaurant</th>\n",
       "      <th>Swim School</th>\n",
       "      <th>Thai Restaurant</th>\n",
       "      <th>Toy / Game Store</th>\n",
       "      <th>Trail</th>\n",
       "      <th>Vegetarian / Vegan Restaurant</th>\n",
       "      <th>Vietnamese Restaurant</th>\n",
       "      <th>Yoga Studio</th>\n",
       "    </tr>\n",
       "  </thead>\n",
       "  <tbody>\n",
       "    <tr>\n",
       "      <th>0</th>\n",
       "      <td>Davisville</td>\n",
       "      <td>0.000000</td>\n",
       "      <td>0.000000</td>\n",
       "      <td>0.000000</td>\n",
       "      <td>0.000</td>\n",
       "      <td>0.028571</td>\n",
       "      <td>0.000000</td>\n",
       "      <td>0.000000</td>\n",
       "      <td>0.057143</td>\n",
       "      <td>0.000000</td>\n",
       "      <td>...</td>\n",
       "      <td>0.000000</td>\n",
       "      <td>0.000000</td>\n",
       "      <td>0.057143</td>\n",
       "      <td>0.000000</td>\n",
       "      <td>0.057143</td>\n",
       "      <td>0.028571</td>\n",
       "      <td>0.00</td>\n",
       "      <td>0.000000</td>\n",
       "      <td>0.000000</td>\n",
       "      <td>0.000000</td>\n",
       "    </tr>\n",
       "    <tr>\n",
       "      <th>1</th>\n",
       "      <td>Davisville North</td>\n",
       "      <td>0.000000</td>\n",
       "      <td>0.000000</td>\n",
       "      <td>0.000000</td>\n",
       "      <td>0.125</td>\n",
       "      <td>0.000000</td>\n",
       "      <td>0.000000</td>\n",
       "      <td>0.000000</td>\n",
       "      <td>0.000000</td>\n",
       "      <td>0.000000</td>\n",
       "      <td>...</td>\n",
       "      <td>0.000000</td>\n",
       "      <td>0.000000</td>\n",
       "      <td>0.000000</td>\n",
       "      <td>0.000000</td>\n",
       "      <td>0.000000</td>\n",
       "      <td>0.000000</td>\n",
       "      <td>0.00</td>\n",
       "      <td>0.000000</td>\n",
       "      <td>0.000000</td>\n",
       "      <td>0.000000</td>\n",
       "    </tr>\n",
       "    <tr>\n",
       "      <th>2</th>\n",
       "      <td>Deer Park,Forest Hill SE,Rathnelly,South Hill,...</td>\n",
       "      <td>0.066667</td>\n",
       "      <td>0.000000</td>\n",
       "      <td>0.066667</td>\n",
       "      <td>0.000</td>\n",
       "      <td>0.000000</td>\n",
       "      <td>0.000000</td>\n",
       "      <td>0.000000</td>\n",
       "      <td>0.000000</td>\n",
       "      <td>0.000000</td>\n",
       "      <td>...</td>\n",
       "      <td>0.066667</td>\n",
       "      <td>0.066667</td>\n",
       "      <td>0.066667</td>\n",
       "      <td>0.000000</td>\n",
       "      <td>0.000000</td>\n",
       "      <td>0.000000</td>\n",
       "      <td>0.00</td>\n",
       "      <td>0.000000</td>\n",
       "      <td>0.066667</td>\n",
       "      <td>0.000000</td>\n",
       "    </tr>\n",
       "    <tr>\n",
       "      <th>3</th>\n",
       "      <td>Forest Hill North,Forest Hill West</td>\n",
       "      <td>0.000000</td>\n",
       "      <td>0.000000</td>\n",
       "      <td>0.000000</td>\n",
       "      <td>0.000</td>\n",
       "      <td>0.000000</td>\n",
       "      <td>0.000000</td>\n",
       "      <td>0.000000</td>\n",
       "      <td>0.000000</td>\n",
       "      <td>0.000000</td>\n",
       "      <td>...</td>\n",
       "      <td>0.000000</td>\n",
       "      <td>0.000000</td>\n",
       "      <td>0.250000</td>\n",
       "      <td>0.000000</td>\n",
       "      <td>0.000000</td>\n",
       "      <td>0.000000</td>\n",
       "      <td>0.25</td>\n",
       "      <td>0.000000</td>\n",
       "      <td>0.000000</td>\n",
       "      <td>0.000000</td>\n",
       "    </tr>\n",
       "    <tr>\n",
       "      <th>4</th>\n",
       "      <td>Lawrence Park</td>\n",
       "      <td>0.000000</td>\n",
       "      <td>0.000000</td>\n",
       "      <td>0.000000</td>\n",
       "      <td>0.000</td>\n",
       "      <td>0.000000</td>\n",
       "      <td>0.000000</td>\n",
       "      <td>0.333333</td>\n",
       "      <td>0.000000</td>\n",
       "      <td>0.000000</td>\n",
       "      <td>...</td>\n",
       "      <td>0.000000</td>\n",
       "      <td>0.000000</td>\n",
       "      <td>0.000000</td>\n",
       "      <td>0.333333</td>\n",
       "      <td>0.000000</td>\n",
       "      <td>0.000000</td>\n",
       "      <td>0.00</td>\n",
       "      <td>0.000000</td>\n",
       "      <td>0.000000</td>\n",
       "      <td>0.000000</td>\n",
       "    </tr>\n",
       "    <tr>\n",
       "      <th>5</th>\n",
       "      <td>Moore Park,Summerhill East</td>\n",
       "      <td>0.000000</td>\n",
       "      <td>0.000000</td>\n",
       "      <td>0.000000</td>\n",
       "      <td>0.000</td>\n",
       "      <td>0.000000</td>\n",
       "      <td>0.000000</td>\n",
       "      <td>0.000000</td>\n",
       "      <td>0.000000</td>\n",
       "      <td>0.000000</td>\n",
       "      <td>...</td>\n",
       "      <td>0.000000</td>\n",
       "      <td>0.000000</td>\n",
       "      <td>0.000000</td>\n",
       "      <td>0.000000</td>\n",
       "      <td>0.000000</td>\n",
       "      <td>0.000000</td>\n",
       "      <td>0.00</td>\n",
       "      <td>0.000000</td>\n",
       "      <td>0.000000</td>\n",
       "      <td>0.000000</td>\n",
       "    </tr>\n",
       "    <tr>\n",
       "      <th>6</th>\n",
       "      <td>North Toronto West</td>\n",
       "      <td>0.000000</td>\n",
       "      <td>0.000000</td>\n",
       "      <td>0.000000</td>\n",
       "      <td>0.000</td>\n",
       "      <td>0.000000</td>\n",
       "      <td>0.000000</td>\n",
       "      <td>0.000000</td>\n",
       "      <td>0.055556</td>\n",
       "      <td>0.055556</td>\n",
       "      <td>...</td>\n",
       "      <td>0.000000</td>\n",
       "      <td>0.000000</td>\n",
       "      <td>0.000000</td>\n",
       "      <td>0.000000</td>\n",
       "      <td>0.000000</td>\n",
       "      <td>0.000000</td>\n",
       "      <td>0.00</td>\n",
       "      <td>0.000000</td>\n",
       "      <td>0.000000</td>\n",
       "      <td>0.055556</td>\n",
       "    </tr>\n",
       "    <tr>\n",
       "      <th>7</th>\n",
       "      <td>Roselawn</td>\n",
       "      <td>0.000000</td>\n",
       "      <td>0.000000</td>\n",
       "      <td>0.000000</td>\n",
       "      <td>0.000</td>\n",
       "      <td>0.000000</td>\n",
       "      <td>0.000000</td>\n",
       "      <td>0.000000</td>\n",
       "      <td>0.000000</td>\n",
       "      <td>0.000000</td>\n",
       "      <td>...</td>\n",
       "      <td>0.000000</td>\n",
       "      <td>0.000000</td>\n",
       "      <td>0.000000</td>\n",
       "      <td>0.000000</td>\n",
       "      <td>0.000000</td>\n",
       "      <td>0.000000</td>\n",
       "      <td>0.00</td>\n",
       "      <td>0.000000</td>\n",
       "      <td>0.000000</td>\n",
       "      <td>0.000000</td>\n",
       "    </tr>\n",
       "    <tr>\n",
       "      <th>8</th>\n",
       "      <td>The Annex,North Midtown,Yorkville</td>\n",
       "      <td>0.047619</td>\n",
       "      <td>0.047619</td>\n",
       "      <td>0.000000</td>\n",
       "      <td>0.000</td>\n",
       "      <td>0.000000</td>\n",
       "      <td>0.047619</td>\n",
       "      <td>0.000000</td>\n",
       "      <td>0.142857</td>\n",
       "      <td>0.000000</td>\n",
       "      <td>...</td>\n",
       "      <td>0.000000</td>\n",
       "      <td>0.000000</td>\n",
       "      <td>0.000000</td>\n",
       "      <td>0.000000</td>\n",
       "      <td>0.000000</td>\n",
       "      <td>0.000000</td>\n",
       "      <td>0.00</td>\n",
       "      <td>0.047619</td>\n",
       "      <td>0.000000</td>\n",
       "      <td>0.000000</td>\n",
       "    </tr>\n",
       "  </tbody>\n",
       "</table>\n",
       "<p>9 rows × 59 columns</p>\n",
       "</div>"
      ],
      "text/plain": [
       "                                       Neighbourhood  American Restaurant  \\\n",
       "0                                         Davisville             0.000000   \n",
       "1                                   Davisville North             0.000000   \n",
       "2  Deer Park,Forest Hill SE,Rathnelly,South Hill,...             0.066667   \n",
       "3                 Forest Hill North,Forest Hill West             0.000000   \n",
       "4                                      Lawrence Park             0.000000   \n",
       "5                         Moore Park,Summerhill East             0.000000   \n",
       "6                                 North Toronto West             0.000000   \n",
       "7                                           Roselawn             0.000000   \n",
       "8                  The Annex,North Midtown,Yorkville             0.047619   \n",
       "\n",
       "   BBQ Joint  Bagel Shop  Breakfast Spot   Brewery  Burger Joint  Bus Line  \\\n",
       "0   0.000000    0.000000           0.000  0.028571      0.000000  0.000000   \n",
       "1   0.000000    0.000000           0.125  0.000000      0.000000  0.000000   \n",
       "2   0.000000    0.066667           0.000  0.000000      0.000000  0.000000   \n",
       "3   0.000000    0.000000           0.000  0.000000      0.000000  0.000000   \n",
       "4   0.000000    0.000000           0.000  0.000000      0.000000  0.333333   \n",
       "5   0.000000    0.000000           0.000  0.000000      0.000000  0.000000   \n",
       "6   0.000000    0.000000           0.000  0.000000      0.000000  0.000000   \n",
       "7   0.000000    0.000000           0.000  0.000000      0.000000  0.000000   \n",
       "8   0.047619    0.000000           0.000  0.000000      0.047619  0.000000   \n",
       "\n",
       "       Café  Chinese Restaurant  ...  Sports Bar  Supermarket  \\\n",
       "0  0.057143            0.000000  ...    0.000000     0.000000   \n",
       "1  0.000000            0.000000  ...    0.000000     0.000000   \n",
       "2  0.000000            0.000000  ...    0.066667     0.066667   \n",
       "3  0.000000            0.000000  ...    0.000000     0.000000   \n",
       "4  0.000000            0.000000  ...    0.000000     0.000000   \n",
       "5  0.000000            0.000000  ...    0.000000     0.000000   \n",
       "6  0.055556            0.055556  ...    0.000000     0.000000   \n",
       "7  0.000000            0.000000  ...    0.000000     0.000000   \n",
       "8  0.142857            0.000000  ...    0.000000     0.000000   \n",
       "\n",
       "   Sushi Restaurant  Swim School  Thai Restaurant  Toy / Game Store  Trail  \\\n",
       "0          0.057143     0.000000         0.057143          0.028571   0.00   \n",
       "1          0.000000     0.000000         0.000000          0.000000   0.00   \n",
       "2          0.066667     0.000000         0.000000          0.000000   0.00   \n",
       "3          0.250000     0.000000         0.000000          0.000000   0.25   \n",
       "4          0.000000     0.333333         0.000000          0.000000   0.00   \n",
       "5          0.000000     0.000000         0.000000          0.000000   0.00   \n",
       "6          0.000000     0.000000         0.000000          0.000000   0.00   \n",
       "7          0.000000     0.000000         0.000000          0.000000   0.00   \n",
       "8          0.000000     0.000000         0.000000          0.000000   0.00   \n",
       "\n",
       "   Vegetarian / Vegan Restaurant  Vietnamese Restaurant  Yoga Studio  \n",
       "0                       0.000000               0.000000     0.000000  \n",
       "1                       0.000000               0.000000     0.000000  \n",
       "2                       0.000000               0.066667     0.000000  \n",
       "3                       0.000000               0.000000     0.000000  \n",
       "4                       0.000000               0.000000     0.000000  \n",
       "5                       0.000000               0.000000     0.000000  \n",
       "6                       0.000000               0.000000     0.055556  \n",
       "7                       0.000000               0.000000     0.000000  \n",
       "8                       0.047619               0.000000     0.000000  \n",
       "\n",
       "[9 rows x 59 columns]"
      ]
     },
     "execution_count": 102,
     "metadata": {},
     "output_type": "execute_result"
    }
   ],
   "source": [
    "# group rows by neighborhood and by taking the mean of the frequency of occurrence of each category\n",
    "central_toronto_grouped = central_toronto_onehot.groupby(COL_NAME_NEIGHBOURHOOD).mean().reset_index()\n",
    "central_toronto_grouped"
   ]
  },
  {
   "cell_type": "code",
   "execution_count": 104,
   "metadata": {
    "ExecuteTime": {
     "end_time": "2020-03-05T12:56:12.433115Z",
     "start_time": "2020-03-05T12:56:12.430120Z"
    }
   },
   "outputs": [
    {
     "data": {
      "text/plain": [
       "(9, 59)"
      ]
     },
     "execution_count": 104,
     "metadata": {},
     "output_type": "execute_result"
    }
   ],
   "source": [
    "# Get the shape of the dataframe\n",
    "central_toronto_grouped.shape"
   ]
  },
  {
   "cell_type": "code",
   "execution_count": 105,
   "metadata": {
    "ExecuteTime": {
     "end_time": "2020-03-05T12:56:30.391038Z",
     "start_time": "2020-03-05T12:56:29.540705Z"
    }
   },
   "outputs": [
    {
     "name": "stdout",
     "output_type": "stream",
     "text": [
      "----Davisville----\n",
      "                Venue  freq\n",
      "0      Sandwich Place  0.09\n",
      "1         Pizza Place  0.09\n",
      "2        Dessert Shop  0.09\n",
      "3                 Gym  0.06\n",
      "4  Italian Restaurant  0.06\n",
      "\n",
      "\n",
      "----Davisville North----\n",
      "               Venue  freq\n",
      "0                Gym  0.12\n",
      "1              Hotel  0.12\n",
      "2   Department Store  0.12\n",
      "3       Dance Studio  0.12\n",
      "4  Food & Drink Shop  0.12\n",
      "\n",
      "\n",
      "----Deer Park,Forest Hill SE,Rathnelly,South Hill,Summerhill West----\n",
      "                 Venue  freq\n",
      "0                  Pub  0.13\n",
      "1          Coffee Shop  0.13\n",
      "2  American Restaurant  0.07\n",
      "3           Restaurant  0.07\n",
      "4          Pizza Place  0.07\n",
      "\n",
      "\n",
      "----Forest Hill North,Forest Hill West----\n",
      "                 Venue  freq\n",
      "0        Jewelry Store  0.25\n",
      "1                Trail  0.25\n",
      "2   Mexican Restaurant  0.25\n",
      "3     Sushi Restaurant  0.25\n",
      "4  American Restaurant  0.00\n",
      "\n",
      "\n",
      "----Lawrence Park----\n",
      "                 Venue  freq\n",
      "0             Bus Line  0.33\n",
      "1          Swim School  0.33\n",
      "2                 Park  0.33\n",
      "3  American Restaurant  0.00\n",
      "4   Salon / Barbershop  0.00\n",
      "\n",
      "\n",
      "----Moore Park,Summerhill East----\n",
      "                 Venue  freq\n",
      "0           Restaurant   1.0\n",
      "1  American Restaurant   0.0\n",
      "2   Salon / Barbershop   0.0\n",
      "3  Japanese Restaurant   0.0\n",
      "4        Jewelry Store   0.0\n",
      "\n",
      "\n",
      "----North Toronto West----\n",
      "                  Venue  freq\n",
      "0           Coffee Shop  0.11\n",
      "1        Clothing Store  0.11\n",
      "2  Gym / Fitness Center  0.06\n",
      "3                   Spa  0.06\n",
      "4   Sporting Goods Shop  0.06\n",
      "\n",
      "\n",
      "----Roselawn----\n",
      "                 Venue  freq\n",
      "0               Garden   1.0\n",
      "1  American Restaurant   0.0\n",
      "2   Salon / Barbershop   0.0\n",
      "3        Jewelry Store   0.0\n",
      "4   Light Rail Station   0.0\n",
      "\n",
      "\n",
      "----The Annex,North Midtown,Yorkville----\n",
      "                 Venue  freq\n",
      "0       Sandwich Place  0.14\n",
      "1                 Café  0.14\n",
      "2          Coffee Shop  0.10\n",
      "3  American Restaurant  0.05\n",
      "4            BBQ Joint  0.05\n",
      "\n",
      "\n"
     ]
    }
   ],
   "source": [
    "# Print each neighborhood along with the top 5 most common venues\n",
    "num_top_venues = 5\n",
    "COL_NAME_FREQUENCE = 'freq'\n",
    "\n",
    "for hood in central_toronto_grouped[COL_NAME_NEIGHBOURHOOD]:\n",
    "    print(\"----\"+hood+\"----\")\n",
    "    temp = central_toronto_grouped[central_toronto_grouped[COL_NAME_NEIGHBOURHOOD] == hood].T.reset_index()\n",
    "    temp.columns = [COL_NAME_VENUE, COL_NAME_FREQUENCE]\n",
    "    temp = temp.iloc[1:]\n",
    "    temp[COL_NAME_FREQUENCE] = temp[COL_NAME_FREQUENCE].astype(float)\n",
    "    temp = temp.round({COL_NAME_FREQUENCE: 2})\n",
    "    print(temp.sort_values(COL_NAME_FREQUENCE, ascending=False).reset_index(drop=True).head(num_top_venues))\n",
    "    print('\\n')"
   ]
  },
  {
   "cell_type": "code",
   "execution_count": 106,
   "metadata": {
    "ExecuteTime": {
     "end_time": "2020-03-05T13:23:46.561081Z",
     "start_time": "2020-03-05T13:23:46.557074Z"
    }
   },
   "outputs": [],
   "source": [
    "# Create a function to sort the venues in descending order\n",
    "def return_most_common_venues(row, num_top_venues):\n",
    "    row_categories = row.iloc[1:]\n",
    "    row_categories_sorted = row_categories.sort_values(ascending=False)\n",
    "    \n",
    "    return row_categories_sorted.index.values[0:num_top_venues]"
   ]
  },
  {
   "cell_type": "markdown",
   "metadata": {},
   "source": [
    "Create the new dataframe and display the top 10 venues for each neighborhood."
   ]
  },
  {
   "cell_type": "code",
   "execution_count": 107,
   "metadata": {
    "ExecuteTime": {
     "end_time": "2020-03-05T13:23:47.455050Z",
     "start_time": "2020-03-05T13:23:47.429149Z"
    }
   },
   "outputs": [
    {
     "data": {
      "text/html": [
       "<div>\n",
       "<style scoped>\n",
       "    .dataframe tbody tr th:only-of-type {\n",
       "        vertical-align: middle;\n",
       "    }\n",
       "\n",
       "    .dataframe tbody tr th {\n",
       "        vertical-align: top;\n",
       "    }\n",
       "\n",
       "    .dataframe thead th {\n",
       "        text-align: right;\n",
       "    }\n",
       "</style>\n",
       "<table border=\"1\" class=\"dataframe\">\n",
       "  <thead>\n",
       "    <tr style=\"text-align: right;\">\n",
       "      <th></th>\n",
       "      <th>Neighbourhood</th>\n",
       "      <th>1st Most Common Venue</th>\n",
       "      <th>2nd Most Common Venue</th>\n",
       "      <th>3rd Most Common Venue</th>\n",
       "      <th>4th Most Common Venue</th>\n",
       "      <th>5th Most Common Venue</th>\n",
       "      <th>6th Most Common Venue</th>\n",
       "      <th>7th Most Common Venue</th>\n",
       "      <th>8th Most Common Venue</th>\n",
       "      <th>9th Most Common Venue</th>\n",
       "      <th>10th Most Common Venue</th>\n",
       "    </tr>\n",
       "  </thead>\n",
       "  <tbody>\n",
       "    <tr>\n",
       "      <th>0</th>\n",
       "      <td>Davisville</td>\n",
       "      <td>Pizza Place</td>\n",
       "      <td>Dessert Shop</td>\n",
       "      <td>Sandwich Place</td>\n",
       "      <td>Café</td>\n",
       "      <td>Gym</td>\n",
       "      <td>Thai Restaurant</td>\n",
       "      <td>Sushi Restaurant</td>\n",
       "      <td>Coffee Shop</td>\n",
       "      <td>Italian Restaurant</td>\n",
       "      <td>Park</td>\n",
       "    </tr>\n",
       "    <tr>\n",
       "      <th>1</th>\n",
       "      <td>Davisville North</td>\n",
       "      <td>Department Store</td>\n",
       "      <td>Food &amp; Drink Shop</td>\n",
       "      <td>Hotel</td>\n",
       "      <td>Gym</td>\n",
       "      <td>Breakfast Spot</td>\n",
       "      <td>Dance Studio</td>\n",
       "      <td>Sandwich Place</td>\n",
       "      <td>Park</td>\n",
       "      <td>Fast Food Restaurant</td>\n",
       "      <td>Garden</td>\n",
       "    </tr>\n",
       "    <tr>\n",
       "      <th>2</th>\n",
       "      <td>Deer Park,Forest Hill SE,Rathnelly,South Hill,...</td>\n",
       "      <td>Pub</td>\n",
       "      <td>Coffee Shop</td>\n",
       "      <td>American Restaurant</td>\n",
       "      <td>Light Rail Station</td>\n",
       "      <td>Pizza Place</td>\n",
       "      <td>Bagel Shop</td>\n",
       "      <td>Vietnamese Restaurant</td>\n",
       "      <td>Fried Chicken Joint</td>\n",
       "      <td>Sushi Restaurant</td>\n",
       "      <td>Supermarket</td>\n",
       "    </tr>\n",
       "    <tr>\n",
       "      <th>3</th>\n",
       "      <td>Forest Hill North,Forest Hill West</td>\n",
       "      <td>Trail</td>\n",
       "      <td>Sushi Restaurant</td>\n",
       "      <td>Jewelry Store</td>\n",
       "      <td>Mexican Restaurant</td>\n",
       "      <td>Yoga Studio</td>\n",
       "      <td>Dessert Shop</td>\n",
       "      <td>Gym</td>\n",
       "      <td>Greek Restaurant</td>\n",
       "      <td>Gourmet Shop</td>\n",
       "      <td>Gas Station</td>\n",
       "    </tr>\n",
       "    <tr>\n",
       "      <th>4</th>\n",
       "      <td>Lawrence Park</td>\n",
       "      <td>Swim School</td>\n",
       "      <td>Bus Line</td>\n",
       "      <td>Park</td>\n",
       "      <td>Yoga Studio</td>\n",
       "      <td>Dessert Shop</td>\n",
       "      <td>Gym / Fitness Center</td>\n",
       "      <td>Gym</td>\n",
       "      <td>Greek Restaurant</td>\n",
       "      <td>Gourmet Shop</td>\n",
       "      <td>Gas Station</td>\n",
       "    </tr>\n",
       "  </tbody>\n",
       "</table>\n",
       "</div>"
      ],
      "text/plain": [
       "                                       Neighbourhood 1st Most Common Venue  \\\n",
       "0                                         Davisville           Pizza Place   \n",
       "1                                   Davisville North      Department Store   \n",
       "2  Deer Park,Forest Hill SE,Rathnelly,South Hill,...                   Pub   \n",
       "3                 Forest Hill North,Forest Hill West                 Trail   \n",
       "4                                      Lawrence Park           Swim School   \n",
       "\n",
       "  2nd Most Common Venue 3rd Most Common Venue 4th Most Common Venue  \\\n",
       "0          Dessert Shop        Sandwich Place                  Café   \n",
       "1     Food & Drink Shop                 Hotel                   Gym   \n",
       "2           Coffee Shop   American Restaurant    Light Rail Station   \n",
       "3      Sushi Restaurant         Jewelry Store    Mexican Restaurant   \n",
       "4              Bus Line                  Park           Yoga Studio   \n",
       "\n",
       "  5th Most Common Venue 6th Most Common Venue  7th Most Common Venue  \\\n",
       "0                   Gym       Thai Restaurant       Sushi Restaurant   \n",
       "1        Breakfast Spot          Dance Studio         Sandwich Place   \n",
       "2           Pizza Place            Bagel Shop  Vietnamese Restaurant   \n",
       "3           Yoga Studio          Dessert Shop                    Gym   \n",
       "4          Dessert Shop  Gym / Fitness Center                    Gym   \n",
       "\n",
       "  8th Most Common Venue 9th Most Common Venue 10th Most Common Venue  \n",
       "0           Coffee Shop    Italian Restaurant                   Park  \n",
       "1                  Park  Fast Food Restaurant                 Garden  \n",
       "2   Fried Chicken Joint      Sushi Restaurant            Supermarket  \n",
       "3      Greek Restaurant          Gourmet Shop            Gas Station  \n",
       "4      Greek Restaurant          Gourmet Shop            Gas Station  "
      ]
     },
     "execution_count": 107,
     "metadata": {},
     "output_type": "execute_result"
    }
   ],
   "source": [
    "\n",
    "import numpy as np\n",
    "\n",
    "num_top_venues = 10\n",
    "\n",
    "indicators = ['st', 'nd', 'rd']\n",
    "\n",
    "# create columns according to number of top venues\n",
    "columns = [COL_NAME_NEIGHBOURHOOD]\n",
    "for ind in np.arange(num_top_venues):\n",
    "    try:\n",
    "        columns.append('{}{} Most Common Venue'.format(ind+1, indicators[ind]))\n",
    "    except:\n",
    "        columns.append('{}th Most Common Venue'.format(ind+1))\n",
    "\n",
    "# create a new dataframe\n",
    "neighborhoods_venues_sorted = pd.DataFrame(columns=columns)\n",
    "neighborhoods_venues_sorted[COL_NAME_NEIGHBOURHOOD] = central_toronto_grouped[COL_NAME_NEIGHBOURHOOD]\n",
    "\n",
    "for ind in np.arange(central_toronto_grouped.shape[0]):\n",
    "    neighborhoods_venues_sorted.iloc[ind, 1:] = return_most_common_venues(central_toronto_grouped.iloc[ind, :], \n",
    "                                                                          num_top_venues)\n",
    "\n",
    "neighborhoods_venues_sorted.head()"
   ]
  },
  {
   "cell_type": "markdown",
   "metadata": {},
   "source": [
    "Clustering Neighborhoods of Central Toronto, Canada\n",
    "\n",
    "Run k-means to cluster the neighborhood into 5 clusters."
   ]
  },
  {
   "cell_type": "code",
   "execution_count": 108,
   "metadata": {
    "ExecuteTime": {
     "end_time": "2020-03-05T13:23:50.088272Z",
     "start_time": "2020-03-05T13:23:49.005060Z"
    }
   },
   "outputs": [
    {
     "data": {
      "text/plain": [
       "array([0, 0, 0, 4, 3, 2, 0, 1, 0])"
      ]
     },
     "execution_count": 108,
     "metadata": {},
     "output_type": "execute_result"
    }
   ],
   "source": [
    "# import k-means from clustering stage\n",
    "from sklearn.cluster import KMeans\n",
    "\n",
    "# set number of clusters\n",
    "kclusters = 5\n",
    "\n",
    "central_toronto_grouped_clustering = central_toronto_grouped.drop(COL_NAME_NEIGHBOURHOOD, 1)\n",
    "\n",
    "# run k-means clustering\n",
    "kmeans = KMeans(n_clusters=kclusters, random_state=0).fit(central_toronto_grouped_clustering)\n",
    "\n",
    "# check cluster labels generated for each row in the dataframe\n",
    "kmeans.labels_[0:10]"
   ]
  },
  {
   "cell_type": "code",
   "execution_count": 109,
   "metadata": {
    "ExecuteTime": {
     "end_time": "2020-03-05T13:23:56.326256Z",
     "start_time": "2020-03-05T13:23:56.318277Z"
    }
   },
   "outputs": [
    {
     "data": {
      "text/html": [
       "<div>\n",
       "<style scoped>\n",
       "    .dataframe tbody tr th:only-of-type {\n",
       "        vertical-align: middle;\n",
       "    }\n",
       "\n",
       "    .dataframe tbody tr th {\n",
       "        vertical-align: top;\n",
       "    }\n",
       "\n",
       "    .dataframe thead th {\n",
       "        text-align: right;\n",
       "    }\n",
       "</style>\n",
       "<table border=\"1\" class=\"dataframe\">\n",
       "  <thead>\n",
       "    <tr style=\"text-align: right;\">\n",
       "      <th></th>\n",
       "      <th>Postcode</th>\n",
       "      <th>Borough</th>\n",
       "      <th>Neighbourhood</th>\n",
       "      <th>Latitude</th>\n",
       "      <th>Longitude</th>\n",
       "    </tr>\n",
       "  </thead>\n",
       "  <tbody>\n",
       "    <tr>\n",
       "      <th>0</th>\n",
       "      <td>M4N</td>\n",
       "      <td>Central Toronto</td>\n",
       "      <td>Lawrence Park</td>\n",
       "      <td>43.728020</td>\n",
       "      <td>-79.388790</td>\n",
       "    </tr>\n",
       "    <tr>\n",
       "      <th>1</th>\n",
       "      <td>M4P</td>\n",
       "      <td>Central Toronto</td>\n",
       "      <td>Davisville North</td>\n",
       "      <td>43.712751</td>\n",
       "      <td>-79.390197</td>\n",
       "    </tr>\n",
       "    <tr>\n",
       "      <th>2</th>\n",
       "      <td>M4R</td>\n",
       "      <td>Central Toronto</td>\n",
       "      <td>North Toronto West</td>\n",
       "      <td>43.715383</td>\n",
       "      <td>-79.405678</td>\n",
       "    </tr>\n",
       "    <tr>\n",
       "      <th>3</th>\n",
       "      <td>M4S</td>\n",
       "      <td>Central Toronto</td>\n",
       "      <td>Davisville</td>\n",
       "      <td>43.704324</td>\n",
       "      <td>-79.388790</td>\n",
       "    </tr>\n",
       "    <tr>\n",
       "      <th>4</th>\n",
       "      <td>M4T</td>\n",
       "      <td>Central Toronto</td>\n",
       "      <td>Moore Park,Summerhill East</td>\n",
       "      <td>43.689574</td>\n",
       "      <td>-79.383160</td>\n",
       "    </tr>\n",
       "  </tbody>\n",
       "</table>\n",
       "</div>"
      ],
      "text/plain": [
       "  Postcode          Borough               Neighbourhood   Latitude  Longitude\n",
       "0      M4N  Central Toronto               Lawrence Park  43.728020 -79.388790\n",
       "1      M4P  Central Toronto            Davisville North  43.712751 -79.390197\n",
       "2      M4R  Central Toronto          North Toronto West  43.715383 -79.405678\n",
       "3      M4S  Central Toronto                  Davisville  43.704324 -79.388790\n",
       "4      M4T  Central Toronto  Moore Park,Summerhill East  43.689574 -79.383160"
      ]
     },
     "execution_count": 109,
     "metadata": {},
     "output_type": "execute_result"
    }
   ],
   "source": [
    "df_central_toronto.head()"
   ]
  },
  {
   "cell_type": "markdown",
   "metadata": {},
   "source": [
    "Create a new dataframe that includes the cluster as well as the top 10 venues for each neighborhood."
   ]
  },
  {
   "cell_type": "code",
   "execution_count": 110,
   "metadata": {
    "ExecuteTime": {
     "end_time": "2020-03-05T13:24:03.720335Z",
     "start_time": "2020-03-05T13:24:03.701415Z"
    }
   },
   "outputs": [
    {
     "data": {
      "text/html": [
       "<div>\n",
       "<style scoped>\n",
       "    .dataframe tbody tr th:only-of-type {\n",
       "        vertical-align: middle;\n",
       "    }\n",
       "\n",
       "    .dataframe tbody tr th {\n",
       "        vertical-align: top;\n",
       "    }\n",
       "\n",
       "    .dataframe thead th {\n",
       "        text-align: right;\n",
       "    }\n",
       "</style>\n",
       "<table border=\"1\" class=\"dataframe\">\n",
       "  <thead>\n",
       "    <tr style=\"text-align: right;\">\n",
       "      <th></th>\n",
       "      <th>Postcode</th>\n",
       "      <th>Borough</th>\n",
       "      <th>Neighbourhood</th>\n",
       "      <th>Latitude</th>\n",
       "      <th>Longitude</th>\n",
       "      <th>Cluster Labels</th>\n",
       "      <th>1st Most Common Venue</th>\n",
       "      <th>2nd Most Common Venue</th>\n",
       "      <th>3rd Most Common Venue</th>\n",
       "      <th>4th Most Common Venue</th>\n",
       "      <th>5th Most Common Venue</th>\n",
       "      <th>6th Most Common Venue</th>\n",
       "      <th>7th Most Common Venue</th>\n",
       "      <th>8th Most Common Venue</th>\n",
       "      <th>9th Most Common Venue</th>\n",
       "      <th>10th Most Common Venue</th>\n",
       "    </tr>\n",
       "  </thead>\n",
       "  <tbody>\n",
       "    <tr>\n",
       "      <th>0</th>\n",
       "      <td>M4N</td>\n",
       "      <td>Central Toronto</td>\n",
       "      <td>Lawrence Park</td>\n",
       "      <td>43.728020</td>\n",
       "      <td>-79.388790</td>\n",
       "      <td>3</td>\n",
       "      <td>Swim School</td>\n",
       "      <td>Bus Line</td>\n",
       "      <td>Park</td>\n",
       "      <td>Yoga Studio</td>\n",
       "      <td>Dessert Shop</td>\n",
       "      <td>Gym / Fitness Center</td>\n",
       "      <td>Gym</td>\n",
       "      <td>Greek Restaurant</td>\n",
       "      <td>Gourmet Shop</td>\n",
       "      <td>Gas Station</td>\n",
       "    </tr>\n",
       "    <tr>\n",
       "      <th>1</th>\n",
       "      <td>M4P</td>\n",
       "      <td>Central Toronto</td>\n",
       "      <td>Davisville North</td>\n",
       "      <td>43.712751</td>\n",
       "      <td>-79.390197</td>\n",
       "      <td>0</td>\n",
       "      <td>Department Store</td>\n",
       "      <td>Food &amp; Drink Shop</td>\n",
       "      <td>Hotel</td>\n",
       "      <td>Gym</td>\n",
       "      <td>Breakfast Spot</td>\n",
       "      <td>Dance Studio</td>\n",
       "      <td>Sandwich Place</td>\n",
       "      <td>Park</td>\n",
       "      <td>Fast Food Restaurant</td>\n",
       "      <td>Garden</td>\n",
       "    </tr>\n",
       "    <tr>\n",
       "      <th>2</th>\n",
       "      <td>M4R</td>\n",
       "      <td>Central Toronto</td>\n",
       "      <td>North Toronto West</td>\n",
       "      <td>43.715383</td>\n",
       "      <td>-79.405678</td>\n",
       "      <td>0</td>\n",
       "      <td>Coffee Shop</td>\n",
       "      <td>Clothing Store</td>\n",
       "      <td>Yoga Studio</td>\n",
       "      <td>Spa</td>\n",
       "      <td>Fast Food Restaurant</td>\n",
       "      <td>Diner</td>\n",
       "      <td>Mexican Restaurant</td>\n",
       "      <td>Dessert Shop</td>\n",
       "      <td>Park</td>\n",
       "      <td>Restaurant</td>\n",
       "    </tr>\n",
       "    <tr>\n",
       "      <th>3</th>\n",
       "      <td>M4S</td>\n",
       "      <td>Central Toronto</td>\n",
       "      <td>Davisville</td>\n",
       "      <td>43.704324</td>\n",
       "      <td>-79.388790</td>\n",
       "      <td>0</td>\n",
       "      <td>Pizza Place</td>\n",
       "      <td>Dessert Shop</td>\n",
       "      <td>Sandwich Place</td>\n",
       "      <td>Café</td>\n",
       "      <td>Gym</td>\n",
       "      <td>Thai Restaurant</td>\n",
       "      <td>Sushi Restaurant</td>\n",
       "      <td>Coffee Shop</td>\n",
       "      <td>Italian Restaurant</td>\n",
       "      <td>Park</td>\n",
       "    </tr>\n",
       "    <tr>\n",
       "      <th>4</th>\n",
       "      <td>M4T</td>\n",
       "      <td>Central Toronto</td>\n",
       "      <td>Moore Park,Summerhill East</td>\n",
       "      <td>43.689574</td>\n",
       "      <td>-79.383160</td>\n",
       "      <td>2</td>\n",
       "      <td>Restaurant</td>\n",
       "      <td>Yoga Studio</td>\n",
       "      <td>Gym / Fitness Center</td>\n",
       "      <td>Gym</td>\n",
       "      <td>Greek Restaurant</td>\n",
       "      <td>Gourmet Shop</td>\n",
       "      <td>Gas Station</td>\n",
       "      <td>Garden</td>\n",
       "      <td>Fried Chicken Joint</td>\n",
       "      <td>Food &amp; Drink Shop</td>\n",
       "    </tr>\n",
       "  </tbody>\n",
       "</table>\n",
       "</div>"
      ],
      "text/plain": [
       "  Postcode          Borough               Neighbourhood   Latitude  Longitude  \\\n",
       "0      M4N  Central Toronto               Lawrence Park  43.728020 -79.388790   \n",
       "1      M4P  Central Toronto            Davisville North  43.712751 -79.390197   \n",
       "2      M4R  Central Toronto          North Toronto West  43.715383 -79.405678   \n",
       "3      M4S  Central Toronto                  Davisville  43.704324 -79.388790   \n",
       "4      M4T  Central Toronto  Moore Park,Summerhill East  43.689574 -79.383160   \n",
       "\n",
       "   Cluster Labels 1st Most Common Venue 2nd Most Common Venue  \\\n",
       "0               3           Swim School              Bus Line   \n",
       "1               0      Department Store     Food & Drink Shop   \n",
       "2               0           Coffee Shop        Clothing Store   \n",
       "3               0           Pizza Place          Dessert Shop   \n",
       "4               2            Restaurant           Yoga Studio   \n",
       "\n",
       "  3rd Most Common Venue 4th Most Common Venue 5th Most Common Venue  \\\n",
       "0                  Park           Yoga Studio          Dessert Shop   \n",
       "1                 Hotel                   Gym        Breakfast Spot   \n",
       "2           Yoga Studio                   Spa  Fast Food Restaurant   \n",
       "3        Sandwich Place                  Café                   Gym   \n",
       "4  Gym / Fitness Center                   Gym      Greek Restaurant   \n",
       "\n",
       "  6th Most Common Venue 7th Most Common Venue 8th Most Common Venue  \\\n",
       "0  Gym / Fitness Center                   Gym      Greek Restaurant   \n",
       "1          Dance Studio        Sandwich Place                  Park   \n",
       "2                 Diner    Mexican Restaurant          Dessert Shop   \n",
       "3       Thai Restaurant      Sushi Restaurant           Coffee Shop   \n",
       "4          Gourmet Shop           Gas Station                Garden   \n",
       "\n",
       "  9th Most Common Venue 10th Most Common Venue  \n",
       "0          Gourmet Shop            Gas Station  \n",
       "1  Fast Food Restaurant                 Garden  \n",
       "2                  Park             Restaurant  \n",
       "3    Italian Restaurant                   Park  \n",
       "4   Fried Chicken Joint      Food & Drink Shop  "
      ]
     },
     "execution_count": 110,
     "metadata": {},
     "output_type": "execute_result"
    }
   ],
   "source": [
    "COL_NAME_CLUSTER_LABELS = 'Cluster Labels'\n",
    "\n",
    "# add clustering labels\n",
    "neighborhoods_venues_sorted.insert(0, COL_NAME_CLUSTER_LABELS, kmeans.labels_)\n",
    "\n",
    "df_central_toronto_merged = df_central_toronto\n",
    "\n",
    "# merge toronto_grouped with toronto_data to add latitude/longitude for each neighborhood\n",
    "df_central_toronto_merged = df_central_toronto_merged.join(neighborhoods_venues_sorted.set_index(COL_NAME_NEIGHBOURHOOD), \n",
    "                                                           on=COL_NAME_NEIGHBOURHOOD)\n",
    "\n",
    "df_central_toronto_merged.head() # check the last columns!"
   ]
  },
  {
   "cell_type": "markdown",
   "metadata": {},
   "source": [
    "Visualize the resulting clusters"
   ]
  },
  {
   "cell_type": "code",
   "execution_count": 111,
   "metadata": {
    "ExecuteTime": {
     "end_time": "2020-03-05T13:24:17.296354Z",
     "start_time": "2020-03-05T13:24:16.781577Z"
    }
   },
   "outputs": [
    {
     "name": "stdout",
     "output_type": "stream",
     "text": [
      "The geograpical coordinate of Central Toronto, CA are 43.653963, -79.387207.\n"
     ]
    },
    {
     "data": {
      "text/html": [
       "<div style=\"width:100%;\"><div style=\"position:relative;width:100%;height:0;padding-bottom:60%;\"><iframe src=\"about:blank\" style=\"position:absolute;width:100%;height:100%;left:0;top:0;border:none !important;\" data-html=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 onload=\"this.contentDocument.open();this.contentDocument.write(atob(this.getAttribute('data-html')));this.contentDocument.close();\" allowfullscreen webkitallowfullscreen mozallowfullscreen></iframe></div></div>"
      ],
      "text/plain": [
       "<folium.folium.Map at 0x1c03459ecc0>"
      ]
     },
     "execution_count": 111,
     "metadata": {},
     "output_type": "execute_result"
    }
   ],
   "source": [
    "# Matplotlib and associated plotting modules\n",
    "import matplotlib.cm as cm\n",
    "import matplotlib.colors as colors\n",
    "\n",
    "# Let's get the geographical coordinates of **'Central Toronto', Canada**\n",
    "address = 'Central Toronto, CA'\n",
    "\n",
    "geolocator = Nominatim(user_agent=\"toronto_explorer\")\n",
    "location = geolocator.geocode(address)\n",
    "latitude = location.latitude\n",
    "longitude = location.longitude\n",
    "print('The geograpical coordinate of Central Toronto, CA are {}, {}.'.format(latitude, longitude))\n",
    "# ------------------------------------------------------------------------------------------------\n",
    "# create map\n",
    "map_clusters = folium.Map(location=[latitude, longitude], zoom_start=11)\n",
    "\n",
    "# set color scheme for the clusters\n",
    "x = np.arange(kclusters)\n",
    "ys = [i + x + (i*x)**2 for i in range(kclusters)]\n",
    "colors_array = cm.rainbow(np.linspace(0, 1, len(ys)))\n",
    "rainbow = [colors.rgb2hex(i) for i in colors_array]\n",
    "\n",
    "# add markers to the map\n",
    "markers_colors = []\n",
    "for lat, lon, poi, cluster in zip(df_central_toronto_merged[COL_NAME_LATITUDE], \n",
    "                                  df_central_toronto_merged[COL_NAME_LONGITUDE], \n",
    "                                  df_central_toronto_merged[COL_NAME_NEIGHBOURHOOD], \n",
    "                                  df_central_toronto_merged[COL_NAME_CLUSTER_LABELS]):\n",
    "    label = folium.Popup(str(poi) + ' Cluster ' + str(cluster), parse_html=True)\n",
    "    folium.CircleMarker(\n",
    "        [lat, lon],\n",
    "        radius=5,\n",
    "        popup=label,\n",
    "        color=rainbow[cluster-1],\n",
    "        fill=True,\n",
    "        fill_color=rainbow[cluster-1],\n",
    "        fill_opacity=0.7).add_to(map_clusters)\n",
    "       \n",
    "map_clusters"
   ]
  },
  {
   "cell_type": "markdown",
   "metadata": {},
   "source": [
    "# Examine clusters"
   ]
  },
  {
   "cell_type": "code",
   "execution_count": 112,
   "metadata": {
    "ExecuteTime": {
     "end_time": "2020-03-05T13:24:33.179362Z",
     "start_time": "2020-03-05T13:24:33.165641Z"
    }
   },
   "outputs": [
    {
     "data": {
      "text/html": [
       "<div>\n",
       "<style scoped>\n",
       "    .dataframe tbody tr th:only-of-type {\n",
       "        vertical-align: middle;\n",
       "    }\n",
       "\n",
       "    .dataframe tbody tr th {\n",
       "        vertical-align: top;\n",
       "    }\n",
       "\n",
       "    .dataframe thead th {\n",
       "        text-align: right;\n",
       "    }\n",
       "</style>\n",
       "<table border=\"1\" class=\"dataframe\">\n",
       "  <thead>\n",
       "    <tr style=\"text-align: right;\">\n",
       "      <th></th>\n",
       "      <th>Borough</th>\n",
       "      <th>Cluster Labels</th>\n",
       "      <th>1st Most Common Venue</th>\n",
       "      <th>2nd Most Common Venue</th>\n",
       "      <th>3rd Most Common Venue</th>\n",
       "      <th>4th Most Common Venue</th>\n",
       "      <th>5th Most Common Venue</th>\n",
       "      <th>6th Most Common Venue</th>\n",
       "      <th>7th Most Common Venue</th>\n",
       "      <th>8th Most Common Venue</th>\n",
       "      <th>9th Most Common Venue</th>\n",
       "      <th>10th Most Common Venue</th>\n",
       "    </tr>\n",
       "  </thead>\n",
       "  <tbody>\n",
       "    <tr>\n",
       "      <th>1</th>\n",
       "      <td>Central Toronto</td>\n",
       "      <td>0</td>\n",
       "      <td>Department Store</td>\n",
       "      <td>Food &amp; Drink Shop</td>\n",
       "      <td>Hotel</td>\n",
       "      <td>Gym</td>\n",
       "      <td>Breakfast Spot</td>\n",
       "      <td>Dance Studio</td>\n",
       "      <td>Sandwich Place</td>\n",
       "      <td>Park</td>\n",
       "      <td>Fast Food Restaurant</td>\n",
       "      <td>Garden</td>\n",
       "    </tr>\n",
       "    <tr>\n",
       "      <th>2</th>\n",
       "      <td>Central Toronto</td>\n",
       "      <td>0</td>\n",
       "      <td>Coffee Shop</td>\n",
       "      <td>Clothing Store</td>\n",
       "      <td>Yoga Studio</td>\n",
       "      <td>Spa</td>\n",
       "      <td>Fast Food Restaurant</td>\n",
       "      <td>Diner</td>\n",
       "      <td>Mexican Restaurant</td>\n",
       "      <td>Dessert Shop</td>\n",
       "      <td>Park</td>\n",
       "      <td>Restaurant</td>\n",
       "    </tr>\n",
       "    <tr>\n",
       "      <th>3</th>\n",
       "      <td>Central Toronto</td>\n",
       "      <td>0</td>\n",
       "      <td>Pizza Place</td>\n",
       "      <td>Dessert Shop</td>\n",
       "      <td>Sandwich Place</td>\n",
       "      <td>Café</td>\n",
       "      <td>Gym</td>\n",
       "      <td>Thai Restaurant</td>\n",
       "      <td>Sushi Restaurant</td>\n",
       "      <td>Coffee Shop</td>\n",
       "      <td>Italian Restaurant</td>\n",
       "      <td>Park</td>\n",
       "    </tr>\n",
       "    <tr>\n",
       "      <th>5</th>\n",
       "      <td>Central Toronto</td>\n",
       "      <td>0</td>\n",
       "      <td>Pub</td>\n",
       "      <td>Coffee Shop</td>\n",
       "      <td>American Restaurant</td>\n",
       "      <td>Light Rail Station</td>\n",
       "      <td>Pizza Place</td>\n",
       "      <td>Bagel Shop</td>\n",
       "      <td>Vietnamese Restaurant</td>\n",
       "      <td>Fried Chicken Joint</td>\n",
       "      <td>Sushi Restaurant</td>\n",
       "      <td>Supermarket</td>\n",
       "    </tr>\n",
       "    <tr>\n",
       "      <th>8</th>\n",
       "      <td>Central Toronto</td>\n",
       "      <td>0</td>\n",
       "      <td>Café</td>\n",
       "      <td>Sandwich Place</td>\n",
       "      <td>Coffee Shop</td>\n",
       "      <td>Indian Restaurant</td>\n",
       "      <td>Pub</td>\n",
       "      <td>BBQ Joint</td>\n",
       "      <td>Burger Joint</td>\n",
       "      <td>Cosmetics Shop</td>\n",
       "      <td>History Museum</td>\n",
       "      <td>Liquor Store</td>\n",
       "    </tr>\n",
       "  </tbody>\n",
       "</table>\n",
       "</div>"
      ],
      "text/plain": [
       "           Borough  Cluster Labels 1st Most Common Venue  \\\n",
       "1  Central Toronto               0      Department Store   \n",
       "2  Central Toronto               0           Coffee Shop   \n",
       "3  Central Toronto               0           Pizza Place   \n",
       "5  Central Toronto               0                   Pub   \n",
       "8  Central Toronto               0                  Café   \n",
       "\n",
       "  2nd Most Common Venue 3rd Most Common Venue 4th Most Common Venue  \\\n",
       "1     Food & Drink Shop                 Hotel                   Gym   \n",
       "2        Clothing Store           Yoga Studio                   Spa   \n",
       "3          Dessert Shop        Sandwich Place                  Café   \n",
       "5           Coffee Shop   American Restaurant    Light Rail Station   \n",
       "8        Sandwich Place           Coffee Shop     Indian Restaurant   \n",
       "\n",
       "  5th Most Common Venue 6th Most Common Venue  7th Most Common Venue  \\\n",
       "1        Breakfast Spot          Dance Studio         Sandwich Place   \n",
       "2  Fast Food Restaurant                 Diner     Mexican Restaurant   \n",
       "3                   Gym       Thai Restaurant       Sushi Restaurant   \n",
       "5           Pizza Place            Bagel Shop  Vietnamese Restaurant   \n",
       "8                   Pub             BBQ Joint           Burger Joint   \n",
       "\n",
       "  8th Most Common Venue 9th Most Common Venue 10th Most Common Venue  \n",
       "1                  Park  Fast Food Restaurant                 Garden  \n",
       "2          Dessert Shop                  Park             Restaurant  \n",
       "3           Coffee Shop    Italian Restaurant                   Park  \n",
       "5   Fried Chicken Joint      Sushi Restaurant            Supermarket  \n",
       "8        Cosmetics Shop        History Museum           Liquor Store  "
      ]
     },
     "execution_count": 112,
     "metadata": {},
     "output_type": "execute_result"
    }
   ],
   "source": [
    "# cluster 1\n",
    "df_temp = df_central_toronto_merged.copy()\n",
    "\n",
    "df_temp.loc[df_temp[COL_NAME_CLUSTER_LABELS] == 0, df_temp.columns[[1] + list(range(5, df_temp.shape[1]))]]"
   ]
  },
  {
   "cell_type": "code",
   "execution_count": 113,
   "metadata": {
    "ExecuteTime": {
     "end_time": "2020-03-05T13:24:45.636878Z",
     "start_time": "2020-03-05T13:24:45.621226Z"
    }
   },
   "outputs": [
    {
     "data": {
      "text/html": [
       "<div>\n",
       "<style scoped>\n",
       "    .dataframe tbody tr th:only-of-type {\n",
       "        vertical-align: middle;\n",
       "    }\n",
       "\n",
       "    .dataframe tbody tr th {\n",
       "        vertical-align: top;\n",
       "    }\n",
       "\n",
       "    .dataframe thead th {\n",
       "        text-align: right;\n",
       "    }\n",
       "</style>\n",
       "<table border=\"1\" class=\"dataframe\">\n",
       "  <thead>\n",
       "    <tr style=\"text-align: right;\">\n",
       "      <th></th>\n",
       "      <th>Borough</th>\n",
       "      <th>Cluster Labels</th>\n",
       "      <th>1st Most Common Venue</th>\n",
       "      <th>2nd Most Common Venue</th>\n",
       "      <th>3rd Most Common Venue</th>\n",
       "      <th>4th Most Common Venue</th>\n",
       "      <th>5th Most Common Venue</th>\n",
       "      <th>6th Most Common Venue</th>\n",
       "      <th>7th Most Common Venue</th>\n",
       "      <th>8th Most Common Venue</th>\n",
       "      <th>9th Most Common Venue</th>\n",
       "      <th>10th Most Common Venue</th>\n",
       "    </tr>\n",
       "  </thead>\n",
       "  <tbody>\n",
       "    <tr>\n",
       "      <th>6</th>\n",
       "      <td>Central Toronto</td>\n",
       "      <td>1</td>\n",
       "      <td>Garden</td>\n",
       "      <td>Yoga Studio</td>\n",
       "      <td>Dessert Shop</td>\n",
       "      <td>History Museum</td>\n",
       "      <td>Gym / Fitness Center</td>\n",
       "      <td>Gym</td>\n",
       "      <td>Greek Restaurant</td>\n",
       "      <td>Gourmet Shop</td>\n",
       "      <td>Gas Station</td>\n",
       "      <td>Fried Chicken Joint</td>\n",
       "    </tr>\n",
       "  </tbody>\n",
       "</table>\n",
       "</div>"
      ],
      "text/plain": [
       "           Borough  Cluster Labels 1st Most Common Venue  \\\n",
       "6  Central Toronto               1                Garden   \n",
       "\n",
       "  2nd Most Common Venue 3rd Most Common Venue 4th Most Common Venue  \\\n",
       "6           Yoga Studio          Dessert Shop        History Museum   \n",
       "\n",
       "  5th Most Common Venue 6th Most Common Venue 7th Most Common Venue  \\\n",
       "6  Gym / Fitness Center                   Gym      Greek Restaurant   \n",
       "\n",
       "  8th Most Common Venue 9th Most Common Venue 10th Most Common Venue  \n",
       "6          Gourmet Shop           Gas Station    Fried Chicken Joint  "
      ]
     },
     "execution_count": 113,
     "metadata": {},
     "output_type": "execute_result"
    }
   ],
   "source": [
    "# Cluster 2\n",
    "df_temp.loc[df_temp[COL_NAME_CLUSTER_LABELS] == 1, df_temp.columns[[1] + list(range(5, df_temp.shape[1]))]]"
   ]
  },
  {
   "cell_type": "code",
   "execution_count": 114,
   "metadata": {
    "ExecuteTime": {
     "end_time": "2020-03-05T13:25:02.482870Z",
     "start_time": "2020-03-05T13:25:02.469905Z"
    }
   },
   "outputs": [
    {
     "data": {
      "text/html": [
       "<div>\n",
       "<style scoped>\n",
       "    .dataframe tbody tr th:only-of-type {\n",
       "        vertical-align: middle;\n",
       "    }\n",
       "\n",
       "    .dataframe tbody tr th {\n",
       "        vertical-align: top;\n",
       "    }\n",
       "\n",
       "    .dataframe thead th {\n",
       "        text-align: right;\n",
       "    }\n",
       "</style>\n",
       "<table border=\"1\" class=\"dataframe\">\n",
       "  <thead>\n",
       "    <tr style=\"text-align: right;\">\n",
       "      <th></th>\n",
       "      <th>Borough</th>\n",
       "      <th>Cluster Labels</th>\n",
       "      <th>1st Most Common Venue</th>\n",
       "      <th>2nd Most Common Venue</th>\n",
       "      <th>3rd Most Common Venue</th>\n",
       "      <th>4th Most Common Venue</th>\n",
       "      <th>5th Most Common Venue</th>\n",
       "      <th>6th Most Common Venue</th>\n",
       "      <th>7th Most Common Venue</th>\n",
       "      <th>8th Most Common Venue</th>\n",
       "      <th>9th Most Common Venue</th>\n",
       "      <th>10th Most Common Venue</th>\n",
       "    </tr>\n",
       "  </thead>\n",
       "  <tbody>\n",
       "    <tr>\n",
       "      <th>4</th>\n",
       "      <td>Central Toronto</td>\n",
       "      <td>2</td>\n",
       "      <td>Restaurant</td>\n",
       "      <td>Yoga Studio</td>\n",
       "      <td>Gym / Fitness Center</td>\n",
       "      <td>Gym</td>\n",
       "      <td>Greek Restaurant</td>\n",
       "      <td>Gourmet Shop</td>\n",
       "      <td>Gas Station</td>\n",
       "      <td>Garden</td>\n",
       "      <td>Fried Chicken Joint</td>\n",
       "      <td>Food &amp; Drink Shop</td>\n",
       "    </tr>\n",
       "  </tbody>\n",
       "</table>\n",
       "</div>"
      ],
      "text/plain": [
       "           Borough  Cluster Labels 1st Most Common Venue  \\\n",
       "4  Central Toronto               2            Restaurant   \n",
       "\n",
       "  2nd Most Common Venue 3rd Most Common Venue 4th Most Common Venue  \\\n",
       "4           Yoga Studio  Gym / Fitness Center                   Gym   \n",
       "\n",
       "  5th Most Common Venue 6th Most Common Venue 7th Most Common Venue  \\\n",
       "4      Greek Restaurant          Gourmet Shop           Gas Station   \n",
       "\n",
       "  8th Most Common Venue 9th Most Common Venue 10th Most Common Venue  \n",
       "4                Garden   Fried Chicken Joint      Food & Drink Shop  "
      ]
     },
     "execution_count": 114,
     "metadata": {},
     "output_type": "execute_result"
    }
   ],
   "source": [
    "# Cluster 3\n",
    "df_temp.loc[df_temp[COL_NAME_CLUSTER_LABELS] == 2, df_temp.columns[[1] + list(range(5, df_temp.shape[1]))]]"
   ]
  },
  {
   "cell_type": "code",
   "execution_count": 115,
   "metadata": {
    "ExecuteTime": {
     "end_time": "2020-03-05T13:25:20.290332Z",
     "start_time": "2020-03-05T13:25:20.277366Z"
    }
   },
   "outputs": [
    {
     "data": {
      "text/html": [
       "<div>\n",
       "<style scoped>\n",
       "    .dataframe tbody tr th:only-of-type {\n",
       "        vertical-align: middle;\n",
       "    }\n",
       "\n",
       "    .dataframe tbody tr th {\n",
       "        vertical-align: top;\n",
       "    }\n",
       "\n",
       "    .dataframe thead th {\n",
       "        text-align: right;\n",
       "    }\n",
       "</style>\n",
       "<table border=\"1\" class=\"dataframe\">\n",
       "  <thead>\n",
       "    <tr style=\"text-align: right;\">\n",
       "      <th></th>\n",
       "      <th>Borough</th>\n",
       "      <th>Cluster Labels</th>\n",
       "      <th>1st Most Common Venue</th>\n",
       "      <th>2nd Most Common Venue</th>\n",
       "      <th>3rd Most Common Venue</th>\n",
       "      <th>4th Most Common Venue</th>\n",
       "      <th>5th Most Common Venue</th>\n",
       "      <th>6th Most Common Venue</th>\n",
       "      <th>7th Most Common Venue</th>\n",
       "      <th>8th Most Common Venue</th>\n",
       "      <th>9th Most Common Venue</th>\n",
       "      <th>10th Most Common Venue</th>\n",
       "    </tr>\n",
       "  </thead>\n",
       "  <tbody>\n",
       "    <tr>\n",
       "      <th>0</th>\n",
       "      <td>Central Toronto</td>\n",
       "      <td>3</td>\n",
       "      <td>Swim School</td>\n",
       "      <td>Bus Line</td>\n",
       "      <td>Park</td>\n",
       "      <td>Yoga Studio</td>\n",
       "      <td>Dessert Shop</td>\n",
       "      <td>Gym / Fitness Center</td>\n",
       "      <td>Gym</td>\n",
       "      <td>Greek Restaurant</td>\n",
       "      <td>Gourmet Shop</td>\n",
       "      <td>Gas Station</td>\n",
       "    </tr>\n",
       "  </tbody>\n",
       "</table>\n",
       "</div>"
      ],
      "text/plain": [
       "           Borough  Cluster Labels 1st Most Common Venue  \\\n",
       "0  Central Toronto               3           Swim School   \n",
       "\n",
       "  2nd Most Common Venue 3rd Most Common Venue 4th Most Common Venue  \\\n",
       "0              Bus Line                  Park           Yoga Studio   \n",
       "\n",
       "  5th Most Common Venue 6th Most Common Venue 7th Most Common Venue  \\\n",
       "0          Dessert Shop  Gym / Fitness Center                   Gym   \n",
       "\n",
       "  8th Most Common Venue 9th Most Common Venue 10th Most Common Venue  \n",
       "0      Greek Restaurant          Gourmet Shop            Gas Station  "
      ]
     },
     "execution_count": 115,
     "metadata": {},
     "output_type": "execute_result"
    }
   ],
   "source": [
    "# Cluster 4\n",
    "df_temp.loc[df_temp[COL_NAME_CLUSTER_LABELS] == 3, df_temp.columns[[1] + list(range(5, df_temp.shape[1]))]]"
   ]
  },
  {
   "cell_type": "code",
   "execution_count": 116,
   "metadata": {
    "ExecuteTime": {
     "end_time": "2020-03-05T13:25:29.807169Z",
     "start_time": "2020-03-05T13:25:29.797188Z"
    }
   },
   "outputs": [
    {
     "data": {
      "text/html": [
       "<div>\n",
       "<style scoped>\n",
       "    .dataframe tbody tr th:only-of-type {\n",
       "        vertical-align: middle;\n",
       "    }\n",
       "\n",
       "    .dataframe tbody tr th {\n",
       "        vertical-align: top;\n",
       "    }\n",
       "\n",
       "    .dataframe thead th {\n",
       "        text-align: right;\n",
       "    }\n",
       "</style>\n",
       "<table border=\"1\" class=\"dataframe\">\n",
       "  <thead>\n",
       "    <tr style=\"text-align: right;\">\n",
       "      <th></th>\n",
       "      <th>Borough</th>\n",
       "      <th>Cluster Labels</th>\n",
       "      <th>1st Most Common Venue</th>\n",
       "      <th>2nd Most Common Venue</th>\n",
       "      <th>3rd Most Common Venue</th>\n",
       "      <th>4th Most Common Venue</th>\n",
       "      <th>5th Most Common Venue</th>\n",
       "      <th>6th Most Common Venue</th>\n",
       "      <th>7th Most Common Venue</th>\n",
       "      <th>8th Most Common Venue</th>\n",
       "      <th>9th Most Common Venue</th>\n",
       "      <th>10th Most Common Venue</th>\n",
       "    </tr>\n",
       "  </thead>\n",
       "  <tbody>\n",
       "  </tbody>\n",
       "</table>\n",
       "</div>"
      ],
      "text/plain": [
       "Empty DataFrame\n",
       "Columns: [Borough, Cluster Labels, 1st Most Common Venue, 2nd Most Common Venue, 3rd Most Common Venue, 4th Most Common Venue, 5th Most Common Venue, 6th Most Common Venue, 7th Most Common Venue, 8th Most Common Venue, 9th Most Common Venue, 10th Most Common Venue]\n",
       "Index: []"
      ]
     },
     "execution_count": 116,
     "metadata": {},
     "output_type": "execute_result"
    }
   ],
   "source": [
    "# Cluster 5\n",
    "df_temp.loc[df_temp[COL_NAME_CLUSTER_LABELS] == 5, df_temp.columns[[1] + list(range(5, df_temp.shape[1]))]]"
   ]
  }
 ],
 "metadata": {
  "kernelspec": {
   "display_name": "Python 3",
   "language": "python",
   "name": "python3"
  },
  "language_info": {
   "codemirror_mode": {
    "name": "ipython",
    "version": 3
   },
   "file_extension": ".py",
   "mimetype": "text/x-python",
   "name": "python",
   "nbconvert_exporter": "python",
   "pygments_lexer": "ipython3",
   "version": "3.6.8"
  },
  "toc": {
   "base_numbering": 1,
   "nav_menu": {},
   "number_sections": true,
   "sideBar": true,
   "skip_h1_title": false,
   "title_cell": "Table of Contents",
   "title_sidebar": "Contents",
   "toc_cell": false,
   "toc_position": {
    "height": "calc(100% - 180px)",
    "left": "10px",
    "top": "150px",
    "width": "212.882px"
   },
   "toc_section_display": true,
   "toc_window_display": true
  },
  "varInspector": {
   "cols": {
    "lenName": 16,
    "lenType": 16,
    "lenVar": 40
   },
   "kernels_config": {
    "python": {
     "delete_cmd_postfix": "",
     "delete_cmd_prefix": "del ",
     "library": "var_list.py",
     "varRefreshCmd": "print(var_dic_list())"
    },
    "r": {
     "delete_cmd_postfix": ") ",
     "delete_cmd_prefix": "rm(",
     "library": "var_list.r",
     "varRefreshCmd": "cat(var_dic_list()) "
    }
   },
   "types_to_exclude": [
    "module",
    "function",
    "builtin_function_or_method",
    "instance",
    "_Feature"
   ],
   "window_display": false
  }
 },
 "nbformat": 4,
 "nbformat_minor": 2
}
